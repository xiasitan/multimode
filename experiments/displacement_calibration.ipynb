{
 "cells": [
  {
   "cell_type": "code",
   "execution_count": 1,
   "metadata": {},
   "outputs": [],
   "source": [
    "import numpy as np\n",
    "import matplotlib.pyplot as plt\n"
   ]
  },
  {
   "cell_type": "code",
   "execution_count": 174,
   "metadata": {},
   "outputs": [
    {
     "data": {
      "text/plain": [
       "[<matplotlib.lines.Line2D at 0x25b72f965d0>]"
      ]
     },
     "execution_count": 174,
     "metadata": {},
     "output_type": "execute_result"
    },
    {
     "data": {
      "image/png": "[encoded data removed]",
      "text/plain": [
       "<Figure size 640x480 with 1 Axes>"
      ]
     },
     "metadata": {},
     "output_type": "display_data"
    }
   ],
   "source": [
    "import numpy as np\n",
    "\n",
    "def generate_gaussian(chop, dt, sigma):\n",
    "    \"\"\"\n",
    "    Generate a Gaussian distribution centered within the range [0, sigma*chop].\n",
    "    \n",
    "    Parameters:\n",
    "    - chop: Determines the window size of the Gaussian distribution.\n",
    "    - dt: timestep between two entries in the x values.\n",
    "    - sigma: The standard deviation of the Gaussian.\n",
    "    \n",
    "    Returns:\n",
    "    - x: Time steps\n",
    "    - y: The y values of the Gaussian distribution.\n",
    "    \"\"\"\n",
    "    # The Gaussian is centered at sigma*chop/2, so mu is set to this value\n",
    "    mu = sigma * chop / 2\n",
    "    # Total length of the range\n",
    "    total_length = sigma * chop\n",
    "    # Number of points\n",
    "    n_points = int(total_length / dt)\n",
    "    if n_points % 2 == 0:\n",
    "        n_points += 1\n",
    "    \n",
    "    # Generate x values starting from 0 to sigma*chop\n",
    "    x = np.linspace(0, sigma * chop, n_points)\n",
    "    # Calculate the Gaussian distribution centered at mu\n",
    "    y =  np.exp(-0.5 * ((x - mu) / sigma) ** 2)\n",
    "    return x, y\n",
    "\n",
    "def generate_pause(length, dt):\n",
    "    \"\"\"\n",
    "    Generate a pause of specified length.\n",
    "    \n",
    "    Parameters:\n",
    "    - length: The length of the pause.\n",
    "    - dt: timestep between two entries in the x values.\n",
    "    \n",
    "    Returns:\n",
    "    - x: Time steps\n",
    "    - y: The y values of the pause.\n",
    "    \"\"\"\n",
    "    # Generate x values starting from 0 to length\n",
    "    x = np.arange(0, length + dt, dt)\n",
    "    # The pause has a constant value of 0\n",
    "    y = np.zeros_like(x)\n",
    "    return x, y\n",
    "\n",
    "def merge_gaussians_and_pauses(x_lists, y_lists):\n",
    "    # Initialize empty arrays for the merged lists\n",
    "    merged_x = np.array([])\n",
    "    merged_y = np.array([])\n",
    "\n",
    "    # Initialize a variable to keep track of the current end of the last x range\n",
    "    current_x_end = 0\n",
    "\n",
    "    for x, y in zip(x_lists, y_lists):\n",
    "        # Adjust the current x list to continue from the current end\n",
    "        adjusted_x = current_x_end + np.array(x)\n",
    "\n",
    "        # Append the adjusted x values and y values to the merged lists\n",
    "        merged_x = np.concatenate((merged_x, adjusted_x))\n",
    "        merged_y = np.concatenate((merged_y, y))\n",
    "        \n",
    "        # Update the current end of the x range\n",
    "        current_x_end = adjusted_x[-1] + (adjusted_x[1] - adjusted_x[0])  # Increment by the last step in x\n",
    "\n",
    "    return merged_x, merged_y\n",
    "\n",
    "def integrate_gaussian_up_to(x, y, up_to_time):\n",
    "    \"\"\"\n",
    "    Integrate the pre-generated Gaussian distribution up to a specified time.\n",
    "    \n",
    "    Parameters:\n",
    "    - x, y: Pre-generated x and y values of the Gaussian distribution.\n",
    "    - up_to_time: The time (x value) until which to integrate the Gaussian.\n",
    "    \n",
    "    Returns:\n",
    "    - integral_up_to: The value of the integral up to the specified time.\n",
    "    \"\"\"\n",
    "    # Find the index of the closest value in x to the specified up_to_time\n",
    "    idx_up_to = np.searchsorted(x, up_to_time)\n",
    "    # Integrate up to this index\n",
    "    integral_up_to = np.trapz(y[:idx_up_to+1], x[:idx_up_to+1])\n",
    "    return integral_up_to\n",
    "\n",
    "def dispersive_evolution(t, chi):\n",
    "    \"\"\"\n",
    "    Calculate the dispersive evolution of the state.\n",
    "    \n",
    "    Parameters:\n",
    "    - t: The time at which to calculate the dispersive evolution.\n",
    "    \n",
    "    Returns:\n",
    "    - dispersive_evolution: The value of the dispersive evolution at the specified time.\n",
    "    \"\"\"\n",
    "    dispersive_evolution = np.exp(-1j * chi * t)\n",
    "    return dispersive_evolution\n",
    "\n",
    "# System parameters\n",
    "chi = 0.05 * 2 * np.pi\n",
    "epsilon = 50\n",
    "\n",
    "# Gaussian Parameters\n",
    "chop = 4\n",
    "dt = 4e-3\n",
    "sigma = 11e-3\n",
    "t_p = sigma * chop\n",
    "\n",
    "# Generate the Gaussian once\n",
    "x_gaussian, y_gaussian = generate_gaussian(chop, dt, sigma)\n",
    "\n",
    "# Generate a pause\n",
    "t_w = 200e-3\n",
    "x_pause, y_pause = generate_pause(t_w, dt)\n",
    "\n",
    "# create the experiment pulse\n",
    "scaling = (1+np.exp(0.5j*chi*(3*t_p+2*t_w)))/(np.exp(0.5j*chi*(t_p+t_w))+np.exp(0.5j*chi*(2*t_p+t_w)))\n",
    "x_list = [x_gaussian, x_pause, x_gaussian, x_gaussian, x_pause, x_gaussian]\n",
    "y_list = [y_gaussian, y_pause, -scaling*y_gaussian, -scaling*y_gaussian, y_pause, y_gaussian]\n",
    "\n",
    "x, y = merge_gaussians_and_pauses(x_list, y_list)\n",
    "\n",
    "# multiply by drive strength\n",
    "y = epsilon*y\n",
    "\n",
    "dispersive_evolution_list = [dispersive_evolution(x_value, chi) for x_value in x]\n",
    "\n",
    "pulse_and_phase_evolution = [y_value * dispersive_evolution for y_value, dispersive_evolution in zip(y, dispersive_evolution_list)]\n",
    "\n",
    "# integrate pulse_and_phase_evolution to find the phase space trajectory\n",
    "\n",
    "trajectory = []\n",
    "for x_value in x:\n",
    "    trajectory.append(dispersive_evolution(x_value,-chi)*integrate_gaussian_up_to(x, pulse_and_phase_evolution, x_value))\n",
    "\n",
    "plt.plot(np.real(trajectory), np.imag(trajectory))\n",
    "\n",
    "#plt.plot(x,np.abs(trajectory))\n",
    "\n"
   ]
  },
  {
   "cell_type": "code",
   "execution_count": 144,
   "metadata": {},
   "outputs": [
    {
     "data": {
      "text/plain": [
       "[<matplotlib.lines.Line2D at 0x25b70f1e450>]"
      ]
     },
     "execution_count": 144,
     "metadata": {},
     "output_type": "execute_result"
    },
    {
     "data": {
      "image/png": "[encoded data removed]",
      "text/plain": [
       "<Figure size 640x480 with 1 Axes>"
      ]
     },
     "metadata": {},
     "output_type": "display_data"
    }
   ],
   "source": [
    "plt.plot(x,y)"
   ]
  },
  {
   "cell_type": "code",
   "execution_count": 165,
   "metadata": {},
   "outputs": [
    {
     "data": {
      "text/plain": [
       "(0.9992297503125519-0.027945921121061312j)"
      ]
     },
     "execution_count": 165,
     "metadata": {},
     "output_type": "execute_result"
    }
   ],
   "source": [
    "(1+np.exp(0.5j*chi*(3*t_p+2*t_w)))/(np.exp(0.5j*chi*(t_p+t_w))+np.exp(0.5j*chi*(t_p+3*t_w)))"
   ]
  },
  {
   "cell_type": "code",
   "execution_count": 163,
   "metadata": {},
   "outputs": [
    {
     "data": {
      "text/plain": [
       "(0.9965103628403676+0.08346913652218263j)"
      ]
     },
     "execution_count": 163,
     "metadata": {},
     "output_type": "execute_result"
    }
   ],
   "source": [
    "np.exp(0.5j*chi*(3*t_p+2*t_w))"
   ]
  },
  {
   "cell_type": "code",
   "execution_count": 161,
   "metadata": {},
   "outputs": [
    {
     "data": {
      "text/plain": [
       "(0.9948877614647814+0.10098684116060017j)"
      ]
     },
     "execution_count": 161,
     "metadata": {},
     "output_type": "execute_result"
    }
   ],
   "source": [
    "np.exp(0.5j*chi*(t_p+3*t_w))"
   ]
  },
  {
   "cell_type": "code",
   "execution_count": 162,
   "metadata": {},
   "outputs": [
    {
     "data": {
      "text/plain": [
       "(0.9992655939501207+0.03831804728209006j)"
      ]
     },
     "execution_count": 162,
     "metadata": {},
     "output_type": "execute_result"
    }
   ],
   "source": [
    "np.exp(0.5j*chi*(t_p+t_w))"
   ]
  }
 ],
 "metadata": {
  "kernelspec": {
   "display_name": "Python 3",
   "language": "python",
   "name": "python3"
  },
  "language_info": {
   "codemirror_mode": {
    "name": "ipython",
    "version": 3
   },
   "file_extension": ".py",
   "mimetype": "text/x-python",
   "name": "python",
   "nbconvert_exporter": "python",
   "pygments_lexer": "ipython3",
   "version": "3.11.8"
  }
 },
 "nbformat": 4,
 "nbformat_minor": 2
}
