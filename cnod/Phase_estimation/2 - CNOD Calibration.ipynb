{
 "cells": [
  {
   "cell_type": "markdown",
   "metadata": {},
   "source": [
    "# CNOD Protocol Calibration\n",
    "This file is meant to calibrate a CNOD gate to produce a cat state. In the file, alpha refers to the overall amplitude of the first CNOD, and beta to the amplitude of the second CNOD.\n",
    "This file can also be used to calibrate a single CNOD by just using the parameters relative to CNOD(a)"
   ]
  },
  {
   "cell_type": "markdown",
   "metadata": {},
   "source": [
    "## Imports\n",
    "If not working check the files under analyze -> fit_func. Check that the path directory is correct\n",
    "\n",
    "Files to check: (exp_decay_sine.py, exp_decay_doubleSine.py, exp_decay_to_zero_sine_withHeating.py, exp_decay_to_zero_sine) "
   ]
  },
  {
   "cell_type": "code",
   "execution_count": 1,
   "metadata": {},
   "outputs": [],
   "source": [
    "from qutip import *\n",
    "import numpy as np\n",
    "import matplotlib.pyplot as plt\n",
    "from scipy.signal import gaussian, square\n",
    "import qutip as qt\n",
    "from func import *\n",
    "from System import *\n",
    "from Visualization import *\n",
    "\n",
    "import os, sys\n",
    "p_current = os.getcwd() #当前文件所在的文件夹路径：第一级父路径\n",
    "p_parent = os.path.abspath(os.path.join(p_current,os.pardir)) # 当前文件所在的文件夹路径的父文件夹路径： 第二级父路径  http://www.moonapi.com/news/1923.html\n",
    "sys.path.insert(1,p_parent) \n",
    "import analyze.fit as fit"
   ]
  },
  {
   "cell_type": "markdown",
   "metadata": {},
   "source": [
    "### Choose figures' resolution"
   ]
  },
  {
   "cell_type": "code",
   "execution_count": 2,
   "metadata": {},
   "outputs": [],
   "source": [
    "npts = 200 # number of points in Wigner function plots\n",
    "max_alpha = 6.0 # alpha max limit in Wigner function plots\n",
    "dpi = 300 # dpi for saved pictures"
   ]
  },
  {
   "cell_type": "markdown",
   "metadata": {},
   "source": [
    "### Choose your System Parameters in the System.py file"
   ]
  },
  {
   "cell_type": "code",
   "execution_count": 3,
   "metadata": {},
   "outputs": [
    {
     "name": "stdout",
     "output_type": "stream",
     "text": [
      "Chosen system parameters:\n",
      "Kerr: 0.0 * 2 * pi\n",
      "CHI: 1.0 * 2 * pi MHz\n",
      "EPSILON: 94\n"
     ]
    }
   ],
   "source": [
    "print(\"Chosen system parameters:\")\n",
    "print(\"Kerr:\", KERR/2/np.pi, \"* 2 * pi\")\n",
    "print(\"CHI:\", CHI/2/np.pi, \"* 2 * pi MHz\")\n",
    "print(\"EPSILON:\",EPSILON)"
   ]
  },
  {
   "cell_type": "markdown",
   "metadata": {},
   "source": [
    "### Calibration Parameters for Conditional NOT Displacement Gate (CNOD)"
   ]
  },
  {
   "cell_type": "code",
   "execution_count": 4,
   "metadata": {},
   "outputs": [
    {
     "name": "stdout",
     "output_type": "stream",
     "text": [
      "Chi: 0.001 GHz = 1000.0 KHz\n",
      "Detuning: -0.001 * 2π kHz\n",
      "Chosen timestep: 1\n",
      "Pulse choice: Rough Anti-symmetric Gaussian\n"
     ]
    }
   ],
   "source": [
    "chi = CHI * 1e-3  # GHz\n",
    "detuning = -chi/1e6\n",
    "omega_shift = chi\n",
    "\n",
    "H = chi * a.dag() * a * proj_e \n",
    "# Pulse parameters\n",
    "is_square = False # Choose between gaussian or square pulse\n",
    "is_cut_tail_antisym = True # Choose between smooth pulse or cut tail pulse\n",
    "\n",
    "\"Calibration parameters\"\n",
    "CNOD_total_protocol = int(round(292.81,0)) # Total time taken for CNOD protocol [CNOD(a) + CNOD(b)] in ns\n",
    "CNOD_alpha_time = (CNOD_total_protocol * 3)//4 + 1 # Time taken for CNOD(a) in ns, this is an arbitrary value, can be optimised based on the pulse shape\n",
    "CNOD_beta_time = CNOD_total_protocol - CNOD_alpha_time # Time taken for CNOD(b) in ns\n",
    "alpha = 4.0  \n",
    "disp05amp = (21779713.7523335408 if is_cut_tail_antisym else 117500000) #calibrate for each set of pulse parameters by fixing alpha\n",
    "alpha_scale = 0.91 # Amplitude scaling for second CNOD\n",
    "timestep = 1\n",
    "\n",
    "print(\"Chi:\", chi/2/np.pi, \"GHz =\", (chi)/2/np.pi*(10**6), \"KHz\")\n",
    "print(\"Detuning:\", detuning/2/np.pi*(10**6), \"* 2π kHz\")\n",
    "print(\"Chosen timestep:\", timestep)\n",
    "print(\"Pulse choice:\", \"\" if is_square else (\"Rough\" if is_cut_tail_antisym else \"Smooth\"), \"Square\" if is_square else \"Anti-symmetric Gaussian\")"
   ]
  },
  {
   "cell_type": "code",
   "execution_count": 5,
   "metadata": {},
   "outputs": [
    {
     "name": "stdout",
     "output_type": "stream",
     "text": [
      "Target Alpha: 4.0\n",
      "Target beta: 0.39269908169872414\n",
      "Total protocol time: 293 ns\n",
      "CNOD(a) total time: 220 ns\n",
      "CNOD(b) total time: 73 ns\n"
     ]
    }
   ],
   "source": [
    "print(\"Target Alpha:\", alpha)\n",
    "beta = np.pi/(2*alpha)\n",
    "print(\"Target beta:\", beta)\n",
    "print(\"Total protocol time:\", CNOD_total_protocol, \"ns\")\n",
    "print(r\"CNOD(a) total time:\", CNOD_alpha_time, \"ns\")\n",
    "print(r\"CNOD(b) total time:\", CNOD_beta_time, \"ns\")"
   ]
  },
  {
   "cell_type": "markdown",
   "metadata": {},
   "source": [
    "### Projectors"
   ]
  },
  {
   "cell_type": "code",
   "execution_count": 6,
   "metadata": {},
   "outputs": [],
   "source": [
    "proj_e_a = qt.tensor(basis(2,1)*basis(2,1).dag(), destroy(N)) # |e><e| x a\n",
    "proj_g_a = qt.tensor(basis(2,0)*basis(2,0).dag(), destroy(N)) # |g><g| x a \n",
    "Number = tensor(qeye(2), destroy(N).dag()*destroy(N)) # I x a†a"
   ]
  },
  {
   "cell_type": "markdown",
   "metadata": {},
   "source": [
    "### Loss and Expectation parameters"
   ]
  },
  {
   "cell_type": "code",
   "execution_count": 7,
   "metadata": {},
   "outputs": [],
   "source": [
    "conv = 1e3 # Unit conversion factor\n",
    "\n",
    "c_ops = [] # No Loss\n",
    "# c_ops = calc_loss(np.inf, np.inf, np.inf, np.inf) # No Loss\n",
    "# c_ops = calc_loss(260*conv, 260*conv, 18*conv, 7*conv)\n",
    "\n",
    "e_ops = [2 *  proj_e_a, 2 * proj_g_a ] # Expectation values. The 2 factor is for normalisation if starting with superposition state |g> + |e>."
   ]
  },
  {
   "cell_type": "markdown",
   "metadata": {},
   "source": [
    "### Choose initial state and which CNOD you would like to use"
   ]
  },
  {
   "cell_type": "code",
   "execution_count": 8,
   "metadata": {},
   "outputs": [
    {
     "name": "stdout",
     "output_type": "stream",
     "text": [
      "isKet: True\n",
      "10.0%. Run time:   0.04s. Est. time left: 00:00:00:00\n",
      "20.0%. Run time:   0.08s. Est. time left: 00:00:00:00\n",
      "30.0%. Run time:   0.12s. Est. time left: 00:00:00:00\n",
      "40.0%. Run time:   0.16s. Est. time left: 00:00:00:00\n",
      "50.0%. Run time:   0.19s. Est. time left: 00:00:00:00\n",
      "60.0%. Run time:   0.24s. Est. time left: 00:00:00:00\n",
      "70.0%. Run time:   0.28s. Est. time left: 00:00:00:00\n",
      "80.0%. Run time:   0.34s. Est. time left: 00:00:00:00\n",
      "90.0%. Run time:   0.40s. Est. time left: 00:00:00:00\n",
      "Total run time:   0.45s\n"
     ]
    },
    {
     "name": "stdout",
     "output_type": "stream",
     "text": [
      "10.0%. Run time:   0.04s. Est. time left: 00:00:00:00\n",
      "20.0%. Run time:   0.09s. Est. time left: 00:00:00:00\n",
      "30.0%. Run time:   0.14s. Est. time left: 00:00:00:00\n",
      "40.0%. Run time:   0.19s. Est. time left: 00:00:00:00\n",
      "50.0%. Run time:   0.23s. Est. time left: 00:00:00:00\n",
      "60.0%. Run time:   0.29s. Est. time left: 00:00:00:00\n",
      "70.0%. Run time:   0.43s. Est. time left: 00:00:00:00\n",
      "80.0%. Run time:   0.55s. Est. time left: 00:00:00:00\n",
      "90.0%. Run time:   0.62s. Est. time left: 00:00:00:00\n",
      "Total run time:   0.68s\n"
     ]
    }
   ],
   "source": [
    "state_0 = superpos # Initial state as ket\n",
    "\n",
    "# theta = 0\n",
    "# state_0 = tensor((fock(2,0) + ((np.exp(-1j*theta)) * fock(2,1))).unit(), fock(N,0))\n",
    "# state_0 = ket2dm(superpos) # Initial state as density matrix (Slower)\n",
    "\n",
    "print(\"isKet:\", isket(state_0))\n",
    "\n",
    "cnod_alpha = CNOD_ket(alpha, disp05amp, state_0, 0, CNOD_alpha_time, timestep, chi, detuning, c_ops, e_ops, is_cut_tail_antisym=is_cut_tail_antisym) # This is just the first CNOD\n",
    "# cnod_complete = CNOD(alpha*alpha_scale, disp05amp, cnod_alpha, 0, CNOD_beta_time, timestep, chi, detuning, c_ops, e_ops, is_cut_tail_antisym=is_cut_tail_antisym) # This is just the complete protocol (CNOD(a) + CNOD(b))\n",
    "# cnod_beta = CNOD_ket(alpha*alpha_scale, disp05amp, state_0, 0, CNOD_beta_time, timestep, chi, detuning, c_ops, e_ops, is_cut_tail_antisym=is_cut_tail_antisym) # This is just the first CNOD\n",
    "\n",
    "cnod = cnod_alpha\n",
    "gate_time = CNOD_alpha_time"
   ]
  },
  {
   "cell_type": "markdown",
   "metadata": {},
   "source": [
    "### Final state wigner "
   ]
  },
  {
   "cell_type": "code",
   "execution_count": 17,
   "metadata": {},
   "outputs": [
    {
     "name": "stdout",
     "output_type": "stream",
     "text": [
      "(-1.5967999269540538+1.3061460887722038j) 2.0629560373249345\n",
      "(1.4910694380265734-1.2360770777375332j) 1.936794932646469\n",
      "Separation: 3.9997509699714033\n"
     ]
    },
    {
     "data": {
      "text/plain": [
       "Text(-5.5, 4.5, 'Separation: 3.9997509699714033')"
      ]
     },
     "execution_count": 17,
     "metadata": {},
     "output_type": "execute_result"
    },
    {
     "data": {
      "image/png": "[encoded data removed]",
      "text/plain": [
       "<Figure size 1170x827 with 1 Axes>"
      ]
     },
     "metadata": {},
     "output_type": "display_data"
    },
    {
     "data": {
      "text/plain": [
       "<Figure size 600x500 with 0 Axes>"
      ]
     },
     "metadata": {},
     "output_type": "display_data"
    }
   ],
   "source": [
    "# cnod = ket2dm(cnod)\n",
    "fig = plt.figure(dpi=dpi)\n",
    "axes = fig.subplots()\n",
    "plt.title(\"Result State\")\n",
    "\n",
    "plot_wigner_home(cnod, npts=npts, ax=axes)\n",
    "\n",
    "exp_g, exp_e = expect(e_ops[0], cnod), expect(e_ops[1], cnod)\n",
    "print(exp_g, np.abs(exp_g))\n",
    "print(exp_e, np.abs(exp_e))\n",
    "separation = np.abs(exp_g) + np.abs(exp_e)\n",
    "print(\"Separation:\", separation)\n",
    "\n",
    "\"\"\"Reminder: Target beta = 0.39269908169872414\"\"\"\n",
    "axes.annotate(\"Separation: \" + str(separation), xy=(-5.5, 4.5), c='b')"
   ]
  },
  {
   "cell_type": "markdown",
   "metadata": {},
   "source": [
    "### Digital rotation"
   ]
  },
  {
   "cell_type": "code",
   "execution_count": 18,
   "metadata": {},
   "outputs": [
    {
     "name": "stdout",
     "output_type": "stream",
     "text": [
      "tetha degrees: -39.60000000000001\n"
     ]
    },
    {
     "data": {
      "text/plain": [
       "Text(0.5, 1.0, 'Rotated Final State')"
      ]
     },
     "execution_count": 18,
     "metadata": {},
     "output_type": "execute_result"
    },
    {
     "data": {
      "text/plain": [
       "<Figure size 3510x2481 with 0 Axes>"
      ]
     },
     "metadata": {},
     "output_type": "display_data"
    },
    {
     "data": {
      "image/png": "[encoded data removed]",
      "text/plain": [
       "<Figure size 600x500 with 1 Axes>"
      ]
     },
     "metadata": {},
     "output_type": "display_data"
    }
   ],
   "source": [
    "def rotate_mode(phi, rho):\n",
    "    a = tensor(qeye(2), destroy(N))\n",
    "    op = (-1j*phi*a.dag()*a).expm()\n",
    "    if isket(rho):\n",
    "        return op*(rho)\n",
    "    return op*(rho)*op.dag()\n",
    "\n",
    "plt.figure(dpi=dpi)\n",
    "theta = - gate_time / 2 * chi\n",
    "print(\"tetha degrees:\", theta*180/np.pi)\n",
    "rotated_final_state = rotate_mode(theta, cnod)\n",
    "plot_wigner_home(rotated_final_state, npts=npts, max_alpha=max_alpha)\n",
    "plt.title(\"Rotated Final State\")"
   ]
  },
  {
   "cell_type": "markdown",
   "metadata": {},
   "source": [
    "### Fidelity Calculation (Can Skip this part and pass directly to the protocol file)"
   ]
  },
  {
   "cell_type": "code",
   "execution_count": 20,
   "metadata": {},
   "outputs": [
    {
     "name": "stdout",
     "output_type": "stream",
     "text": [
      "Theta degrees (max fid): 0.0 deg\n",
      "Max achieved fidelity: 93.31918542442756 %\n"
     ]
    }
   ],
   "source": [
    "if rotated_final_state.isket:\n",
    "    result_state = rotated_final_state\n",
    "else:\n",
    "    print(\"USE KET\")\n",
    "    result_state = None\n",
    "\n",
    "if 0: \n",
    "    # No relative phase or choose arbitrary angle (default theta = 0)\n",
    "    theta_list = [0]  \n",
    "if 1:  \n",
    "    # The final state has a relative phase!\n",
    "    theta_list = np.linspace(0, 360, 3) # Choose the range and number of angles to check fidelity for\n",
    "\n",
    "theoretical_list, fidelity_list = [], []\n",
    "\n",
    "for theta in theta_list:\n",
    "    rad = theta * np.pi/180\n",
    "    theoretical = (tensor( fock(2,0), coherent(N, alpha/2) ) - np.exp(1j*rad) * tensor(fock(2,1), coherent(N, -alpha/2))).unit()\n",
    "    fid = fidelity(theoretical, result_state)\n",
    "    theoretical_list.append(theoretical)\n",
    "    fidelity_list.append(fid)\n",
    "\n",
    "max_fidelity = np.max(np.array(fidelity_list))\n",
    "max_fidelity_index = np.argmax(np.array(fidelity_list))\n",
    "theta_degrees = theta_list[max_fidelity_index]\n",
    "rad = theta_degrees * np.pi/180\n",
    "theo = (tensor( fock(2,0), coherent(N, alpha/2) ) - np.exp(1j*rad) * tensor(fock(2,1), coherent(N, -alpha/2))).unit()\n",
    "\n",
    "print(\"Theta degrees (max fid):\", theta_degrees, \"deg\")\n",
    "print(\"Max achieved fidelity:\", max_fidelity*100, \"%\")\n",
    "\n",
    "fig, axes = plt.subplots(1, 2) # Create a 2-plot figure\n",
    "\n",
    "print(\"Shapes:\", (theo).shape, result_state.shape)\n",
    "print(\"Separation: \", separation)\n",
    "print(\"Fidelity: \", max_fidelity*100, \"%\")\n",
    "\n",
    "# Target state plot\n",
    "plot_wigner_home(theo, npts=npts, max_alpha=max_alpha, ax=axes[0])  \n",
    "axes[0].annotate(f\"Target final separation = {alpha}\", (-3.8,2.8), c='blue') \n",
    "axes[0].set_title(\"Target state\")\n",
    "      \n",
    "# Result state plot\n",
    "plot_wigner_home(result_state, npts=npts, max_alpha=max_alpha, ax=axes[1])\n",
    "axes[1].set_title(\"Result state\")\n",
    "axes[1].annotate(f\"Attained final separation ≈ {np.abs(round(-separation, 5))}\", (-5.0,2.8), c='blue')\n",
    "axes[1].annotate(f\"Fidelity ≈ {round(max_fidelity*100,5)}%\", (-5.0,2.1), c='blue')"
   ]
  }
 ],
 "metadata": {
  "kernelspec": {
   "display_name": "Python 3",
   "language": "python",
   "name": "python3"
  },
  "language_info": {
   "codemirror_mode": {
    "name": "ipython",
    "version": 3
   },
   "file_extension": ".py",
   "mimetype": "text/x-python",
   "name": "python",
   "nbconvert_exporter": "python",
   "pygments_lexer": "ipython3",
   "version": "3.9.9"
  },
  "orig_nbformat": 4
 },
 "nbformat": 4,
 "nbformat_minor": 2
}
