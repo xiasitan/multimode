{
 "cells": [
  {
   "cell_type": "code",
   "execution_count": 1,
   "metadata": {},
   "outputs": [
    {
     "data": {
      "text/plain": [
       "char_func (generic function with 4 methods)"
      ]
     },
     "metadata": {},
     "output_type": "display_data"
    }
   ],
   "source": [
    "using QuantumOptics\n",
    "include(\"C:/Users/jonat/Desktop/Code/multimode/multiMode/Visual.jl\")"
   ]
  },
  {
   "cell_type": "markdown",
   "metadata": {},
   "source": [
    "### Defining basis and operators"
   ]
  },
  {
   "cell_type": "code",
   "execution_count": 2,
   "metadata": {},
   "outputs": [
    {
     "data": {
      "text/plain": [
       "Ket(dim=10125)\n",
       "  basis: [Fock(cutoff=2) ⊗ Fock(cutoff=14) ⊗ Fock(cutoff=14) ⊗ Fock(cutoff=14)]\n",
       " 0.7071067811865475 + 0.0im\n",
       "                0.0 + 0.0im\n",
       " 0.7071067811865475 + 0.0im\n",
       "                0.0 + 0.0im\n",
       "                0.0 + 0.0im\n",
       "                0.0 + 0.0im\n",
       "                0.0 + 0.0im\n",
       "                0.0 + 0.0im\n",
       "                0.0 + 0.0im\n",
       "                0.0 + 0.0im\n",
       "                    ⋮\n",
       "                0.0 + 0.0im\n",
       "                0.0 + 0.0im\n",
       "                0.0 + 0.0im\n",
       "                0.0 + 0.0im\n",
       "                0.0 + 0.0im\n",
       "                0.0 + 0.0im\n",
       "                0.0 + 0.0im\n",
       "                0.0 + 0.0im\n",
       "                0.0 + 0.0im"
      ]
     },
     "metadata": {},
     "output_type": "display_data"
    }
   ],
   "source": [
    "const N = 15 # Cavity Dimension\n",
    "\n",
    "# Cavity Operators\n",
    "fb = FockBasis(N-1)\n",
    "\n",
    "a = destroy(fb)\n",
    "at = create(fb)\n",
    "Ic = identityoperator(fb)\n",
    "\n",
    "# qutrit operators\n",
    "qb = FockBasis(3-1)\n",
    "\n",
    "Iq = identityoperator(qb)\n",
    "q = destroy(qb)\n",
    "qt = create(qb)\n",
    "sz_ge = Operator(qb,qb, [-1 0 0; 0 1 0; 0 0 1])\n",
    "sz_gf = Operator(qb,qb, [-1 0 0; 0 0 0; 0 0 1])\n",
    "sy_ge = Operator(qb,qb, [0 -1im 0; 1im 0 0; 0 0 1])\n",
    "sy_ef = Operator(qb,qb, [1 0 0; 0 0 -1im; 0 1im 0])\n",
    "sx_ge = Operator(qb,qb, [0 1 0; 1 0 0; 0 0 1])\n",
    "sx_ef = Operator(qb,qb, [1 0 0; 0 0 1; 0 1 0])\n",
    "\n",
    "\n",
    "\n",
    "g = fockstate(qb,0)\n",
    "e = fockstate(qb,1)\n",
    "f = fockstate(qb,2)\n",
    "ge = 1/√2*(g+e)\n",
    "vac = fockstate(fb,0) \n",
    "proj_g = projector(g) ⊗ Ic ⊗ Ic ⊗ Ic\n",
    "proj_e = projector(e) ⊗ Ic ⊗ Ic ⊗ Ic\n",
    "proj_f = projector(f) ⊗ Ic ⊗ Ic ⊗ Ic\n",
    "\n",
    "gvvv = g ⊗ vac ⊗ vac ⊗ vac\n",
    "evvv = e ⊗ vac ⊗ vac ⊗ vac\n",
    "gevvv = ((g+e)/√2) ⊗ vac ⊗ vac ⊗ vac\n",
    "gfvvv = ((g+f)/√2) ⊗ vac ⊗ vac ⊗ vac"
   ]
  },
  {
   "cell_type": "markdown",
   "metadata": {},
   "source": [
    "## Notes\n",
    "- currently dispersive ham not corr3ect\n",
    "- qubit dephasing operator not correct"
   ]
  },
  {
   "cell_type": "markdown",
   "metadata": {},
   "source": [
    "### Hamiltonian Terms and Time evolution"
   ]
  },
  {
   "cell_type": "code",
   "execution_count": 3,
   "metadata": {},
   "outputs": [
    {
     "data": {
      "text/plain": [
       "triple_CD_gf_evolution_loss (generic function with 1 method)"
      ]
     },
     "metadata": {},
     "output_type": "display_data"
    }
   ],
   "source": [
    "######## Hamiltonians ########\n",
    "\n",
    "const χ = 2π*0.0\n",
    "\n",
    "\n",
    "H_dispersive_ge = -χ/2 * projector(g) ⊗ ((at*a) ⊗ Ic ⊗ Ic + Ic ⊗ (at*a) ⊗ Ic + Ic ⊗ Ic ⊗ (at*a)) + \n",
    "χ/2 * projector(e) ⊗ ((at*a) ⊗ Ic ⊗ Ic + Ic ⊗ (at*a) ⊗ Ic + Ic ⊗ Ic ⊗ (at*a)) +\n",
    "3*χ/2 * projector(f) ⊗ ((at*a) ⊗ Ic ⊗ Ic + Ic ⊗ (at*a) ⊗ Ic + Ic ⊗ Ic ⊗ (at*a)) # Hamiltonian assuming the drive is omega_c-chi/2\n",
    "\n",
    "H_dispersive_gf = -χ * projector(g) ⊗ ((at*a) ⊗ Ic ⊗ Ic + Ic ⊗ (at*a) ⊗ Ic + Ic ⊗ Ic ⊗ (at*a)) + \n",
    "χ* projector(f) ⊗ ((at*a) ⊗ Ic ⊗ Ic + Ic ⊗ (at*a) ⊗ Ic + Ic ⊗ Ic ⊗ (at*a)) \n",
    "\n",
    "\n",
    "# H_dispersive_ef = -χ/2 * sz_gf ⊗ (at*a) ⊗ (at*a) ⊗ (at*a) # dispersive hamiltonian when resonant with the e state. Assuming χ_ge = χ_ef\n",
    "\n",
    "\n",
    "# Qubit Hamiltonians\n",
    "function H_qubit_drive_ge(δ, θ = 0)\n",
    "    # θ = 0 -> rotate around x axis\n",
    "    # θ = pi/2 -> rotate around y axis \n",
    "    # pi flip if ϵ*T_max = pi\n",
    "    δ/2*(cos(θ)*sx_ge + sin(θ)*sy_ge)\n",
    "end\n",
    "\n",
    "function H_qubit_drive_ef(δ, θ = 0)\n",
    "    # θ = 0 -> rotate around x axis\n",
    "    # θ = pi/2 -> rotate around y axis \n",
    "    # pi flip if ϵ*T_max = pi\n",
    "    δ/2*(cos(θ)*sx_ef + sin(θ)*sy_ef)\n",
    "end\n",
    "\n",
    "function H_cav_drive(ϵ)\n",
    "    # sign is chosen to match displace \n",
    "    # α = ϵ*T_max\n",
    "    (conj(ϵ * 1im)a + ϵ * 1im*dagger(a)) \n",
    "end\n",
    "\n",
    "function H_CD_ge(β)\n",
    "    sz_ge⊗(conj(β)*a+β*at) \n",
    "end\n",
    "\n",
    "function H_CD_gf(β)\n",
    "    sz_gf⊗(conj(β)*a+β*at) \n",
    "end\n",
    "\n",
    "\n",
    "function H_triple_CD_ge(α,β,γ)\n",
    "    sz_ge⊗(a⊗Ic⊗Ic*conj(α)+at⊗Ic⊗Ic*α + Ic⊗a⊗Ic*conj(β)+Ic⊗at⊗Ic*β + Ic⊗Ic⊗a*conj(γ)+Ic⊗Ic⊗at*γ)\n",
    "end\n",
    "\n",
    "function H_triple_CD_gf(α,β,γ)\n",
    "    sz_gf⊗(a⊗Ic⊗Ic*conj(α)+at⊗Ic⊗Ic*α + Ic⊗a⊗Ic*conj(β)+Ic⊗at⊗Ic*β + Ic⊗Ic⊗a*conj(γ)+Ic⊗Ic⊗at*γ)\n",
    "end\n",
    "\n",
    "######### Collapse Operators #########\n",
    "function photon_loss_cavity_jump_operator(κ = κ_cav,a = a)\n",
    "    sqrt(κ)*a\n",
    "end\n",
    "\n",
    "function photon_loss_qubit_jump_operator(κ = κ_qubit,q = q)\n",
    "    sqrt(κ)*q\n",
    "end\n",
    "\n",
    "# function dephasing_qubit_jump_operator(γ = γ_qubit, a) # need to edit!\n",
    "#     sqrt(κ)* 0.5*sqrt(γ)*sz\n",
    "# end\n",
    "\n",
    "######### Time Evolution #########\n",
    "\n",
    "### Qubit Rotations\n",
    "function R_evolution_ge(δ, t,  state, θ = 0)\n",
    "    H_total = H_qubit_drive_ge(δ, θ) ⊗ Ic ⊗ Ic ⊗ Ic + H_dispersive_ge\n",
    "    tout, ψt = timeevolution.schroedinger(t, state, H_total);\n",
    "    last(ψt)\n",
    "end\n",
    "\n",
    "function R_evolution_ef(δ, t,  state, θ = 0)\n",
    "    H_total = H_qubit_drive_ef(δ, θ) ⊗ Ic ⊗ Ic ⊗ Ic + H_dispersive_gf\n",
    "    tout, ψt = timeevolution.schroedinger(t, state, H_total);\n",
    "    last(ψt)\n",
    "end\n",
    "\n",
    "function R_evolution_ge_loss(δ, t, ρ, J, θ = 0)\n",
    "    H_total = H_qubit_drive_ge(δ, θ) ⊗ Ic ⊗ Ic ⊗ Ic + H_dispersive_ge\n",
    "    tout, ρt = timeevolution.master(t, ρ, H_total, J);\n",
    "    last(ρt)\n",
    "end\n",
    "\n",
    "function R_evolution_ef_loss(δ, t, ρ, J, θ = 0)\n",
    "    H_total = H_qubit_drive_ef(δ, θ) ⊗ Ic ⊗ Ic ⊗ Ic + H_dispersive_gf\n",
    "    tout, ρt = timeevolution.master(t, ρ, H_total, J);\n",
    "    last(ρt)\n",
    "end\n",
    "\n",
    "### Cavity Displacement\n",
    "function D_evolution(ϵ ,t , state)\n",
    "    H_total = Iq ⊗ (H_cav_drive(ϵ[1]) ⊗ Ic ⊗ Ic + Ic ⊗ H_cav_drive(ϵ[2]) ⊗ Ic + \n",
    "    Ic ⊗ Ic ⊗ H_cav_drive(ϵ[3])) + H_dispersive_gf\n",
    "    tout, ψt = timeevolution.schroedinger(t, state, H_total)\n",
    "    last(ψt)\n",
    "end\n",
    "\n",
    "function D_evolution_loss(ϵ ,t , ρ, J)\n",
    "    H_total = Iq ⊗ (H_cav_drive(ϵ[1]) ⊗ Ic ⊗ Ic + Ic ⊗ H_cav_drive(ϵ[2]) ⊗ Ic + \n",
    "    Ic ⊗ Ic ⊗ H_cav_drive(ϵ[3])) + H_dispersive_gf\n",
    "    tout, ρt = timeevolution.master(t, ρ, H_total, J)\n",
    "    last(ρt)\n",
    "end\n",
    "\n",
    "### Conditinal cavity displacement\n",
    "\n",
    "function triple_CD_ge_evolution(β ,t , state)\n",
    "    # final conditinal displacement beta given by β*max(t)\n",
    "    H_total = H_triple_CD_ge(β[1],β[2],β[3]) \n",
    "    tout, ψt = timeevolution.schroedinger(t, state, H_total)\n",
    "    last(ψt)\n",
    "end\n",
    "\n",
    "function triple_CD_gf_evolution(β ,t , state)\n",
    "    # final conditinal displacement beta given by β*max(t)\n",
    "    H_total = H_triple_CD_gf(β[1],β[2],β[3])\n",
    "    tout, ψt = timeevolution.schroedinger(t, state, H_total)\n",
    "    last(ψt)\n",
    "end\n",
    "\n",
    "function triple_CD_ge_evolution_loss(β ,t , ρ, J)\n",
    "    # final conditinal displacement beta given by β*max(t)\n",
    "    H_total = H_triple_CD_ge(β[1],β[2],β[3])\n",
    "    tout, ψt = timeevolution.master(t, ρ, H_total,J)\n",
    "    last(ψt)\n",
    "end\n",
    "\n",
    "function triple_CD_gf_evolution_loss(β ,t , ρ, J)\n",
    "    # final conditinal displacement beta given by β*max(t)\n",
    "    H_total = H_triple_CD_gf(β[1],β[2],β[3])\n",
    "    tout, ψt = timeevolution.master(t, ρ, H_total, J)\n",
    "    last(ψt)\n",
    "end\n",
    "\n",
    "\n",
    "### States"
   ]
  },
  {
   "cell_type": "markdown",
   "metadata": {},
   "source": [
    "### Testing gates to ensure they do the right thing"
   ]
  },
  {
   "cell_type": "code",
   "execution_count": 14,
   "metadata": {},
   "outputs": [],
   "source": [
    "# Qubit Rotations (works)\n",
    "t = [0:0.1:1;]\n",
    "\n",
    "state_pi2_ge = R_evolution_ge(π/2, t, gvvv)\n",
    "state_pi2_ef = R_evolution_ef(π/2, t, R_evolution_ge(π, t, gvvv))\n",
    "print(ptrace(state_pi2_ge, [2,3,4]))\n",
    "print(ptrace(state_pi2_ef, [2,3,4]))"
   ]
  },
  {
   "cell_type": "code",
   "execution_count": null,
   "metadata": {},
   "outputs": [],
   "source": [
    "# MultiMode displacement (works)\n",
    "ϵ_list = [1,0.5,1.5].*1im\n",
    "t_list = [0:0.1:1;]\n",
    "\n",
    "state_evolved = D_evolution(ϵ_list, t_list, gvvv)\n",
    "\n",
    "fig, axs = subplots(1,3)\n",
    "quick_plot_wigner(ptrace(state_evolved,[1,3,4]), ax = axs[1])\n",
    "quick_plot_wigner(ptrace(state_evolved,[1,2,4]), ax = axs[2])\n",
    "quick_plot_wigner(ptrace(state_evolved,[1,2,3]), ax = axs[3])\n",
    "gcf()"
   ]
  },
  {
   "cell_type": "code",
   "execution_count": null,
   "metadata": {},
   "outputs": [],
   "source": [
    "# triple conditional displacement ge (works)\n",
    "ϵ_list = [0.5,-1,2]\n",
    "t_list = [0:0.1:1;]\n",
    "\n",
    "state_evolved = triple_CD_ge_evolution(ϵ_list, t_list, evvv)\n",
    "\n",
    "fig, axs = subplots(1,3)\n",
    "quick_plot_wigner(ptrace(state_evolved,[1,3,4]), ax = axs[1])\n",
    "quick_plot_wigner(ptrace(state_evolved,[1,2,4]), ax = axs[2])\n",
    "quick_plot_wigner(ptrace(state_evolved,[1,2,3]), ax = axs[3])\n",
    "gcf()\n",
    "\n"
   ]
  },
  {
   "cell_type": "code",
   "execution_count": 121,
   "metadata": {},
   "outputs": [
    {
     "data": {
      "image/png": "[encoded data removed]",
      "text/plain": [
       "Figure(PyObject <Figure size 640x480 with 3 Axes>)"
      ]
     },
     "metadata": {},
     "output_type": "display_data"
    }
   ],
   "source": [
    "# triple conditional displacement gf (works)\n",
    "ϵ_list = [0.5,-1,2]\n",
    "t_list = [0:0.1:1;]\n",
    "\n",
    "state_evolved = triple_CD_gf_evolution(ϵ_list, t_list, gvvv)\n",
    "\n",
    "fig, axs = subplots(1,3)\n",
    "quick_plot_wigner(ptrace(state_evolved,[1,3,4]), ax = axs[1])\n",
    "quick_plot_wigner(ptrace(state_evolved,[1,2,4]), ax = axs[2])\n",
    "quick_plot_wigner(ptrace(state_evolved,[1,2,3]), ax = axs[3])\n",
    "gcf()\n",
    "\n"
   ]
  },
  {
   "cell_type": "markdown",
   "metadata": {},
   "source": [
    "### W state creation - without loss"
   ]
  },
  {
   "cell_type": "code",
   "execution_count": 4,
   "metadata": {},
   "outputs": [
    {
     "data": {
      "text/plain": [
       "Operator(dim=3375x3375)\n",
       "  basis: [Fock(cutoff=14) ⊗ Fock(cutoff=14) ⊗ Fock(cutoff=14)]\n",
       "  0.00118008+0.0im          …   0.0-0.0im   0.0+0.0im   0.0+0.0im\n",
       "  -0.0011014+1.96356e-11im     -0.0+0.0im  -0.0-0.0im  -0.0-0.0im\n",
       "  0.00218069-3.88771e-11im      0.0-0.0im   0.0+0.0im   0.0+0.0im\n",
       " -0.00352511+6.28454e-11im     -0.0+0.0im  -0.0-0.0im  -0.0-0.0im\n",
       "  0.00493577-8.79946e-11im      0.0-0.0im   0.0+0.0im   0.0+0.0im\n",
       " -0.00617831+1.10146e-10im  …  -0.0+0.0im  -0.0-0.0im  -0.0-0.0im\n",
       "  0.00706946-1.26034e-10im      0.0-0.0im   0.0+0.0im   0.0+0.0im\n",
       "  -0.0074618+1.33028e-10im     -0.0+0.0im  -0.0-0.0im  -0.0-0.0im\n",
       "  0.00743651-1.32577e-10im      0.0-0.0im   0.0+0.0im   0.0+0.0im\n",
       " -0.00682799+1.21729e-10im     -0.0+0.0im  -0.0-0.0im  -0.0-0.0im\n",
       "            ⋮               ⋱                          \n",
       "         0.0-0.0im              0.0-0.0im   0.0+0.0im   0.0+0.0im\n",
       "        -0.0-0.0im             -0.0+0.0im  -0.0-0.0im  -0.0-0.0im\n",
       "        -0.0+0.0im             -0.0+0.0im  -0.0-0.0im  -0.0-0.0im\n",
       "         0.0-0.0im              0.0-0.0im   0.0-0.0im   0.0-0.0im\n",
       "         0.0-0.0im          …   0.0-0.0im   0.0-0.0im   0.0+0.0im\n",
       "         0.0+0.0im              0.0-0.0im   0.0+0.0im   0.0+0.0im\n",
       "         0.0+0.0im              0.0+0.0im   0.0+0.0im   0.0+0.0im\n",
       "         0.0-0.0im              0.0-0.0im   0.0+0.0im   0.0+0.0im\n",
       "         0.0-0.0im              0.0-0.0im   0.0-0.0im   0.0+0.0im"
      ]
     },
     "metadata": {},
     "output_type": "display_data"
    }
   ],
   "source": [
    "θ = π/2# rotate around y axis\n",
    "ϕ = 0.95531*2\n",
    "t_list_rotation = [0:0.01:0.05;]\n",
    "t_list_displacement = [0:0.01:0.05;]\n",
    "t_list_conditinal_displacement = [0:0.1:0.6;]\n",
    "\n",
    "α = 3*1im # relative scaling factor. final state will be α00 + 0α0 +...\n",
    "\n",
    "β_list_1 = [-2,1,1].*α/2\n",
    "β_list_2 = [2,0,-2].*α/2\n",
    "α_list = [0, 0.5,0.5].*α*1im\n",
    "\n",
    "# 0. Start in gvvv \n",
    "ψ0 = gvvv\n",
    "# 1. rotate ge by pi/2\n",
    "ψ1 = R_evolution_ge(ϕ*1/(last(t_list_rotation)), t_list_rotation, ψ0, θ) # roation around y\n",
    "# 2. conditional ge displacement\n",
    "ψ2 = triple_CD_ge_evolution(β_list_1.*(1/last(t_list_conditinal_displacement)), t_list_conditinal_displacement, ψ1)\n",
    "# 3. rotate ef by pi/2\n",
    "ψ3 = R_evolution_ef(π/2*1/(last(t_list_rotation)), t_list_rotation, ψ2, θ)\n",
    "# 4. conditional gf displacement\n",
    "ψ4 = triple_CD_gf_evolution(β_list_2.*1/last(t_list_conditinal_displacement), t_list_conditinal_displacement, ψ3)\n",
    "# 5. Single displacements\n",
    "ψ5 = D_evolution(α_list*1/(last(t_list_displacement)), t_list_displacement, ψ4)\n",
    "# 6. rotate ef by pi/2\n",
    "ψ6 = R_evolution_ef(-π/2*1/(last(t_list_rotation)), t_list_rotation, ψ5, θ)\n",
    "# 7. rotate ge by pi/2\n",
    "ψ7 = R_evolution_ge(-ϕ*1/(last(t_list_rotation)), t_list_rotation, ψ6, θ)\n",
    "# 8. project on g\n",
    "ψ8 = normalize(proj_g  *ψ7);\n",
    "ψ8_cav = ptrace(ψ8, [1])"
   ]
  },
  {
   "cell_type": "code",
   "execution_count": 7,
   "metadata": {},
   "outputs": [
    {
     "name": "stdout",
     "output_type": "stream",
     "text": [
      "Ideal Density matrix\n"
     ]
    },
    {
     "name": "stdout",
     "output_type": "stream",
     "text": [
      "\n",
      "3×3 Matrix{Complex}:\n",
      " 0.326133+0.0im  0.326133+0.0im  0.326133+0.0im\n",
      " 0.326133+0.0im  0.326133+0.0im  0.326133+0.0im\n",
      " 0.326133+0.0im  0.326133+0.0im  0.326133+0.0im\n",
      "Protocol Density matrix\n",
      "\n"
     ]
    },
    {
     "name": "stdout",
     "output_type": "stream",
     "text": [
      "3×3 Matrix{Complex}:\n",
      " 0.333043+1.0842e-19im    0.172163-0.269139im       0.260551+0.191181im\n",
      " 0.172163+0.269139im      0.306496-8.67362e-19im  -0.0198081+0.309386im\n",
      " 0.260551-0.191181im    -0.0198081-0.309386im       0.313584-3.25261e-19im"
     ]
    },
    {
     "name": "stdout",
     "output_type": "stream",
     "text": [
      "\n",
      "Wigner Functions:\n",
      "\n"
     ]
    },
    {
     "name": "stdout",
     "output_type": "stream",
     "text": [
      "State fidelity is: 0.7700510671737243\n"
     ]
    },
    {
     "data": {
      "image/png": "[encoded data removed]",
      "text/plain": [
       "Figure(PyObject <Figure size 640x480 with 6 Axes>)"
      ]
     },
     "metadata": {},
     "output_type": "display_data"
    }
   ],
   "source": [
    "# Analysis\n",
    "# define projectors on the wanted final state components\n",
    "sα00 = coherentstate(fb,α*1im) ⊗ vac ⊗ vac\n",
    "s0α0 = vac ⊗ coherentstate(fb,α*1im) ⊗ vac\n",
    "s00α = vac ⊗ vac ⊗ coherentstate(fb,α*1im)\n",
    "\n",
    "state_list = [sα00,s0α0,s00α]\n",
    "# define ideal W state with given size\n",
    "W_state = 1/√3*(sα00 + s0α0 + s00α)\n",
    "\n",
    "\n",
    "fig, axs = subplots(2,3)\n",
    "quick_plot_wigner(ptrace(W_state,[2,3]), ax = axs[1,1])\n",
    "quick_plot_wigner(ptrace(W_state,[1,3]), ax = axs[1,2])\n",
    "quick_plot_wigner(ptrace(W_state,[2,3]), ax = axs[1,3])\n",
    "\n",
    "quick_plot_wigner(ptrace(ψ8,[1,3,4]), ax = axs[2,1])\n",
    "quick_plot_wigner(ptrace(ψ8,[1,2,4]), ax = axs[2,2])\n",
    "quick_plot_wigner(ptrace(ψ8,[1,2,3]), ax = axs[2,3])\n",
    "\n",
    "#ideal dm \n",
    "println(\"Ideal Density matrix\")\n",
    "println()\n",
    "result_array = zeros(Complex,3, 3)\n",
    "for i in 1:3\n",
    "    for j in 1:3\n",
    "        result_array[i, j] = dagger(state_list[i]) *dm(W_state)* state_list[j]\n",
    "    end\n",
    "end\n",
    "show(stdout, \"text/plain\", result_array)\n",
    "\n",
    "println()\n",
    "println(\"Protocol Density matrix\")\n",
    "println()\n",
    "result_array = zeros(Complex,3, 3)\n",
    "for i in 1:3\n",
    "    for j in 1:3\n",
    "        result_array[i, j] = dagger(state_list[i]) *ψ8_cav* state_list[j]\n",
    "    end\n",
    "end\n",
    "show(stdout, \"text/plain\", result_array)\n",
    "\n",
    "\n",
    "# Wigner Functions\n",
    "println()\n",
    "println(\"Wigner Functions:\")\n",
    "\n",
    "println()\n",
    "println(\"State fidelity is: \", abs(fidelity(ψ8_cav,dm(W_state))))\n",
    "\n",
    "\n",
    "gcf()"
   ]
  },
  {
   "cell_type": "markdown",
   "metadata": {},
   "source": [
    "## W- state creation with qubit decay\n"
   ]
  },
  {
   "cell_type": "code",
   "execution_count": 4,
   "metadata": {},
   "outputs": [
    {
     "data": {
      "text/plain": [
       "1-element Vector{Operator{CompositeBasis{Vector{Int64}, NTuple{4, FockBasis{Int64}}}, CompositeBasis{Vector{Int64}, NTuple{4, FockBasis{Int64}}}, SparseArrays.SparseMatrixCSC{ComplexF64, Int64}}}:\n",
       " Operator(dim=10125x10125)\n",
       "  basis: [Fock(cutoff=2) ⊗ Fock(cutoff=14) ⊗ Fock(cutoff=14) ⊗ Fock(cutoff=14)]sparse([1, 2, 4, 5, 7, 8, 10, 11, 13, 14  …  10111, 10112, 10114, 10115, 10117, 10118, 10120, 10121, 10123, 10124], [2, 3, 5, 6, 8, 9, 11, 12, 14, 15, 17, 18, 20, 21, 23, 24, 26, 27, 29, 30, 32, 33, 35, 36, 38, 39, 41, 42, 44, 45, 47, 48, 50, 51, 53, 54, 56, 57, 59, 60, 62, 63, 65, 66, 68, 69, 71, 72, 74, 75, 77, 78, 80, 81, 83, 84, 86, 87, 89, 90, 92, 93, 95, 96, 98, 99, 101, 102, 104, 105, 107, 108, 110, 111, 113, 114, 116, 117, 119, 120, 122, 123, 125, 126, 128, 129, 131, 132, 134, 135, 137, 138, 140, 141, 143, 144, 146, 147, 149, 150, 152, 153, 155, 156, 158, 159, 161, 162, 164, 165, 167, 168, 170, 171, 173, 174, 176, 177, 179, 180, 182, 183, 185, 186, 188, 189, 191, 192, 194, 195, 197, 198, 200, 201, 203, 204, 206, 207, 209, 210, 212, 213, 215, 216, 218, 219, 221, 222, 224, 225, 227, 228, 230, 231, 233, 234, 236, 237, 239, 240, 242, 243, 245, 246, 248, 249, 251, 252, 254, 255, 257, 258, 260, 261, 263, 264, 266, 267, 269, 270, 272, 273, 275, 276, 278, 279, 281, 282, 284, 285, 287, 288, 290, 291, 293, 294, 296, 297, 299, 300, 302, 303, 305, 306, 308, 309, 311, 312, 314, 315, 317, 318, 320, 321, 323, 324, 326, 327, 329, 330, 332, 333, 335, 336, 338, 339, 341, 342, 344, 345, 347, 348, 350, 351, 353, 354, 356, 357, 359, 360, 362, 363, 365, 366, 368, 369, 371, 372, 374, 375, 377, 378, 380, 381, 383, 384, 386, 387, 389, 390, 392, 393, 395, 396, 398, 399, 401, 402, 404, 405, 407, 408, 410, 411, 413, 414, 416, 417, 419, 420, 422, 423, 425, 426, 428, 429, 431, 432, 434, 435, 437, 438, 440, 441, 443, 444, 446, 447, 449, 450, 452, 453, 455, 456, 458, 459, 461, 462, 464, 465, 467, 468, 470, 471, 473, 474, 476, 477, 479, 480, 482, 483, 485, 486, 488, 489, 491, 492, 494, 495, 497, 498, 500, 501, 503, 504, 506, 507, 509, 510, 512, 513, 515, 516, 518, 519, 521, 522, 524, 525, 527, 528, 530, 531, 533, 534, 536, 537, 539, 540, 542, 543, 545, 546, 548, 549, 551, 552, 554, 555, 557, 558, 560, 561, 563, 564, 566, 567, 569, 570, 572, 573, 575, 576, 578, 579, 581, 582, 584, 585, 587, 588, 590, 591, 593, 594, 596, 597, 599, 600, 602, 603, 605, 606, 608, 609, 611, 612, 614, 615, 617, 618, 620, 621, 623, 624, 626, 627, 629, 630, 632, 633, 635, 636, 638, 639, 641, 642, 644, 645, 647, 648, 650, 651, 653, 654, 656, 657, 659, 660, 662, 663, 665, 666, 668, 669, 671, 672, 674, 675, 677, 678, 680, 681, 683, 684, 686, 687, 689, 690, 692, 693, 695, 696, 698, 699, 701, 702, 704, 705, 707, 708, 710, 711, 713, 714, 716, 717, 719, 720, 722, 723, 725, 726, 728, 729, 731, 732, 734, 735, 737, 738, 740, 741, 743, 744, 746, 747, 749, 750, 752, 753, 755, 756, 758, 759, 761, 762, 764, 765, 767, 768, 770, 771, 773, 774, 776, 777, 779, 780, 782, 783, 785, 786, 788, 789, 791, 792, 794, 795, 797, 798, 800, 801, 803, 804, 806, 807, 809, 810, 812, 813, 815, 816, 818, 819, 821, 822, 824, 825, 827, 828, 830, 831, 833, 834, 836, 837, 839, 840, 842, 843, 845, 846, 848, 849, 851, 852, 854, 855, 857, 858, 860, 861, 863, 864, 866, 867, 869, 870, 872, 873, 875, 876, 878, 879, 881, 882, 884, 885, 887, 888, 890, 891, 893, 894, 896, 897, 899, 900, 902, 903, 905, 906, 908, 909, 911, 912, 914, 915, 917, 918, 920, 921, 923, 924, 926, 927, 929, 930, 932, 933, 935, 936, 938, 939, 941, 942, 944, 945, 947, 948, 950, 951, 953, 954, 956, 957, 959, 960, 962, 963, 965, 966, 968, 969, 971, 972, 974, 975, 977, 978, 980, 981, 983, 984, 986, 987, 989, 990, 992, 993, 995, 996, 998, 999, 1001, 1002, 1004, 1005, 1007, 1008, 1010, 1011, 1013, 1014, 1016, 1017, 1019, 1020, 1022, 1023, 1025, 1026, 1028, 1029, 1031, 1032, 1034, 1035, 1037, 1038, 1040, 1041, 1043, 1044, 1046, 1047, 1049, 1050, 1052, 1053, 1055, 1056, 1058, 1059, 1061, 1062, 1064, 1065, 1067, 1068, 1070, 1071, 1073, 1074, 1076, 1077, 1079, 1080, 1082, 1083, 1085, 1086, 1088, 1089, 1091, 1092, 1094, 1095, 1097, 1098, 1100, 1101, 1103, 1104, 1106, 1107, 1109, 1110, 1112, 1113, 1115, 1116, 1118, 1119, 1121, 1122, 1124, 1125, 1127, 1128, 1130, 1131, 1133, 1134, 1136, 1137, 1139, 1140, 1142, 1143, 1145, 1146, 1148, 1149, 1151, 1152, 1154, 1155, 1157, 1158, 1160, 1161, 1163, 1164, 1166, 1167, 1169, 1170, 1172, 1173, 1175, 1176, 1178, 1179, 1181, 1182, 1184, 1185, 1187, 1188, 1190, 1191, 1193, 1194, 1196, 1197, 1199, 1200, 1202, 1203, 1205, 1206, 1208, 1209, 1211, 1212, 1214, 1215, 1217, 1218, 1220, 1221, 1223, 1224, 1226, 1227, 1229, 1230, 1232, 1233, 1235, 1236, 1238, 1239, 1241, 1242, 1244, 1245, 1247, 1248, 1250, 1251, 1253, 1254, 1256, 1257, 1259, 1260, 1262, 1263, 1265, 1266, 1268, 1269, 1271, 1272, 1274, 1275, 1277, 1278, 1280, 1281, 1283, 1284, 1286, 1287, 1289, 1290, 1292, 1293, 1295, 1296, 1298, 1299, 1301, 1302, 1304, 1305, 1307, 1308, 1310, 1311, 1313, 1314, 1316, 1317, 1319, 1320, 1322, 1323, 1325, 1326, 1328, 1329, 1331, 1332, 1334, 1335, 1337, 1338, 1340, 1341, 1343, 1344, 1346, 1347, 1349, 1350, 1352, 1353, 1355, 1356, 1358, 1359, 1361, 1362, 1364, 1365, 1367, 1368, 1370, 1371, 1373, 1374, 1376, 1377, 1379, 1380, 1382, 1383, 1385, 1386, 1388, 1389, 1391, 1392, 1394, 1395, 1397, 1398, 1400, 1401, 1403, 1404, 1406, 1407, 1409, 1410, 1412, 1413, 1415, 1416, 1418, 1419, 1421, 1422, 1424, 1425, 1427, 1428, 1430, 1431, 1433, 1434, 1436, 1437, 1439, 1440, 1442, 1443, 1445, 1446, 1448, 1449, 1451, 1452, 1454, 1455, 1457, 1458, 1460, 1461, 1463, 1464, 1466, 1467, 1469, 1470, 1472, 1473, 1475, 1476, 1478, 1479, 1481, 1482, 1484, 1485, 1487, 1488, 1490, 1491, 1493, 1494, 1496, 1497, 1499, 1500, 1502, 1503, 1505, 1506, 1508, 1509, 1511, 1512, 1514, 1515, 1517, 1518, 1520, 1521, 1523, 1524, 1526, 1527, 1529, 1530, 1532, 1533, 1535, 1536, 1538, 1539, 1541, 1542, 1544, 1545, 1547, 1548, 1550, 1551, 1553, 1554, 1556, 1557, 1559, 1560, 1562, 1563, 1565, 1566, 1568, 1569, 1571, 1572, 1574, 1575, 1577, 1578, 1580, 1581, 1583, 1584, 1586, 1587, 1589, 1590, 1592, 1593, 1595, 1596, 1598, 1599, 1601, 1602, 1604, 1605, 1607, 1608, 1610, 1611, 1613, 1614, 1616, 1617, 1619, 1620, 1622, 1623, 1625, 1626, 1628, 1629, 1631, 1632, 1634, 1635, 1637, 1638, 1640, 1641, 1643, 1644, 1646, 1647, 1649, 1650, 1652, 1653, 1655, 1656, 1658, 1659, 1661, 1662, 1664, 1665, 1667, 1668, 1670, 1671, 1673, 1674, 1676, 1677, 1679, 1680, 1682, 1683, 1685, 1686, 1688, 1689, 1691, 1692, 1694, 1695, 1697, 1698, 1700, 1701, 1703, 1704, 1706, 1707, 1709, 1710, 1712, 1713, 1715, 1716, 1718, 1719, 1721, 1722, 1724, 1725, 1727, 1728, 1730, 1731, 1733, 1734, 1736, 1737, 1739, 1740, 1742, 1743, 1745, 1746, 1748, 1749, 1751, 1752, 1754, 1755, 1757, 1758, 1760, 1761, 1763, 1764, 1766, 1767, 1769, 1770, 1772, 1773, 1775, 1776, 1778, 1779, 1781, 1782, 1784, 1785, 1787, 1788, 1790, 1791, 1793, 1794, 1796, 1797, 1799, 1800, 1802, 1803, 1805, 1806, 1808, 1809, 1811, 1812, 1814, 1815, 1817, 1818, 1820, 1821, 1823, 1824, 1826, 1827, 1829, 1830, 1832, 1833, 1835, 1836, 1838, 1839, 1841, 1842, 1844, 1845, 1847, 1848, 1850, 1851, 1853, 1854, 1856, 1857, 1859, 1860, 1862, 1863, 1865, 1866, 1868, 1869, 1871, 1872, 1874, 1875, 1877, 1878, 1880, 1881, 1883, 1884, 1886, 1887, 1889, 1890, 1892, 1893, 1895, 1896, 1898, 1899, 1901, 1902, 1904, 1905, 1907, 1908, 1910, 1911, 1913, 1914, 1916, 1917, 1919, 1920, 1922, 1923, 1925, 1926, 1928, 1929, 1931, 1932, 1934, 1935, 1937, 1938, 1940, 1941, 1943, 1944, 1946, 1947, 1949, 1950, 1952, 1953, 1955, 1956, 1958, 1959, 1961, 1962, 1964, 1965, 1967, 1968, 1970, 1971, 1973, 1974, 1976, 1977, 1979, 1980, 1982, 1983, 1985, 1986, 1988, 1989, 1991, 1992, 1994, 1995, 1997, 1998, 2000, 2001, 2003, 2004, 2006, 2007, 2009, 2010, 2012, 2013, 2015, 2016, 2018, 2019, 2021, 2022, 2024, 2025, 2027, 2028, 2030, 2031, 2033, 2034, 2036, 2037, 2039, 2040, 2042, 2043, 2045, 2046, 2048, 2049, 2051, 2052, 2054, 2055, 2057, 2058, 2060, 2061, 2063, 2064, 2066, 2067, 2069, 2070, 2072, 2073, 2075, 2076, 2078, 2079, 2081, 2082, 2084, 2085, 2087, 2088, 2090, 2091, 2093, 2094, 2096, 2097, 2099, 2100, 2102, 2103, 2105, 2106, 2108, 2109, 2111, 2112, 2114, 2115, 2117, 2118, 2120, 2121, 2123, 2124, 2126, 2127, 2129, 2130, 2132, 2133, 2135, 2136, 2138, 2139, 2141, 2142, 2144, 2145, 2147, 2148, 2150, 2151, 2153, 2154, 2156, 2157, 2159, 2160, 2162, 2163, 2165, 2166, 2168, 2169, 2171, 2172, 2174, 2175, 2177, 2178, 2180, 2181, 2183, 2184, 2186, 2187, 2189, 2190, 2192, 2193, 2195, 2196, 2198, 2199, 2201, 2202, 2204, 2205, 2207, 2208, 2210, 2211, 2213, 2214, 2216, 2217, 2219, 2220, 2222, 2223, 2225, 2226, 2228, 2229, 2231, 2232, 2234, 2235, 2237, 2238, 2240, 2241, 2243, 2244, 2246, 2247, 2249, 2250, 2252, 2253, 2255, 2256, 2258, 2259, 2261, 2262, 2264, 2265, 2267, 2268, 2270, 2271, 2273, 2274, 2276, 2277, 2279, 2280, 2282, 2283, 2285, 2286, 2288, 2289, 2291, 2292, 2294, 2295, 2297, 2298, 2300, 2301, 2303, 2304, 2306, 2307, 2309, 2310, 2312, 2313, 2315, 2316, 2318, 2319, 2321, 2322, 2324, 2325, 2327, 2328, 2330, 2331, 2333, 2334, 2336, 2337, 2339, 2340, 2342, 2343, 2345, 2346, 2348, 2349, 2351, 2352, 2354, 2355, 2357, 2358, 2360, 2361, 2363, 2364, 2366, 2367, 2369, 2370, 2372, 2373, 2375, 2376, 2378, 2379, 2381, 2382, 2384, 2385, 2387, 2388, 2390, 2391, 2393, 2394, 2396, 2397, 2399, 2400, 2402, 2403, 2405, 2406, 2408, 2409, 2411, 2412, 2414, 2415, 2417, 2418, 2420, 2421, 2423, 2424, 2426, 2427, 2429, 2430, 2432, 2433, 2435, 2436, 2438, 2439, 2441, 2442, 2444, 2445, 2447, 2448, 2450, 2451, 2453, 2454, 2456, 2457, 2459, 2460, 2462, 2463, 2465, 2466, 2468, 2469, 2471, 2472, 2474, 2475, 2477, 2478, 2480, 2481, 2483, 2484, 2486, 2487, 2489, 2490, 2492, 2493, 2495, 2496, 2498, 2499, 2501, 2502, 2504, 2505, 2507, 2508, 2510, 2511, 2513, 2514, 2516, 2517, 2519, 2520, 2522, 2523, 2525, 2526, 2528, 2529, 2531, 2532, 2534, 2535, 2537, 2538, 2540, 2541, 2543, 2544, 2546, 2547, 2549, 2550, 2552, 2553, 2555, 2556, 2558, 2559, 2561, 2562, 2564, 2565, 2567, 2568, 2570, 2571, 2573, 2574, 2576, 2577, 2579, 2580, 2582, 2583, 2585, 2586, 2588, 2589, 2591, 2592, 2594, 2595, 2597, 2598, 2600, 2601, 2603, 2604, 2606, 2607, 2609, 2610, 2612, 2613, 2615, 2616, 2618, 2619, 2621, 2622, 2624, 2625, 2627, 2628, 2630, 2631, 2633, 2634, 2636, 2637, 2639, 2640, 2642, 2643, 2645, 2646, 2648, 2649, 2651, 2652, 2654, 2655, 2657, 2658, 2660, 2661, 2663, 2664, 2666, 2667, 2669, 2670, 2672, 2673, 2675, 2676, 2678, 2679, 2681, 2682, 2684, 2685, 2687, 2688, 2690, 2691, 2693, 2694, 2696, 2697, 2699, 2700, 2702, 2703, 2705, 2706, 2708, 2709, 2711, 2712, 2714, 2715, 2717, 2718, 2720, 2721, 2723, 2724, 2726, 2727, 2729, 2730, 2732, 2733, 2735, 2736, 2738, 2739, 2741, 2742, 2744, 2745, 2747, 2748, 2750, 2751, 2753, 2754, 2756, 2757, 2759, 2760, 2762, 2763, 2765, 2766, 2768, 2769, 2771, 2772, 2774, 2775, 2777, 2778, 2780, 2781, 2783, 2784, 2786, 2787, 2789, 2790, 2792, 2793, 2795, 2796, 2798, 2799, 2801, 2802, 2804, 2805, 2807, 2808, 2810, 2811, 2813, 2814, 2816, 2817, 2819, 2820, 2822, 2823, 2825, 2826, 2828, 2829, 2831, 2832, 2834, 2835, 2837, 2838, 2840, 2841, 2843, 2844, 2846, 2847, 2849, 2850, 2852, 2853, 2855, 2856, 2858, 2859, 2861, 2862, 2864, 2865, 2867, 2868, 2870, 2871, 2873, 2874, 2876, 2877, 2879, 2880, 2882, 2883, 2885, 2886, 2888, 2889, 2891, 2892, 2894, 2895, 2897, 2898, 2900, 2901, 2903, 2904, 2906, 2907, 2909, 2910, 2912, 2913, 2915, 2916, 2918, 2919, 2921, 2922, 2924, 2925, 2927, 2928, 2930, 2931, 2933, 2934, 2936, 2937, 2939, 2940, 2942, 2943, 2945, 2946, 2948, 2949, 2951, 2952, 2954, 2955, 2957, 2958, 2960, 2961, 2963, 2964, 2966, 2967, 2969, 2970, 2972, 2973, 2975, 2976, 2978, 2979, 2981, 2982, 2984, 2985, 2987, 2988, 2990, 2991, 2993, 2994, 2996, 2997, 2999, 3000, 3002, 3003, 3005, 3006, 3008, 3009, 3011, 3012, 3014, 3015, 3017, 3018, 3020, 3021, 3023, 3024, 3026, 3027, 3029, 3030, 3032, 3033, 3035, 3036, 3038, 3039, 3041, 3042, 3044, 3045, 3047, 3048, 3050, 3051, 3053, 3054, 3056, 3057, 3059, 3060, 3062, 3063, 3065, 3066, 3068, 3069, 3071, 3072, 3074, 3075, 3077, 3078, 3080, 3081, 3083, 3084, 3086, 3087, 3089, 3090, 3092, 3093, 3095, 3096, 3098, 3099, 3101, 3102, 3104, 3105, 3107, 3108, 3110, 3111, 3113, 3114, 3116, 3117, 3119, 3120, 3122, 3123, 3125, 3126, 3128, 3129, 3131, 3132, 3134, 3135, 3137, 3138, 3140, 3141, 3143, 3144, 3146, 3147, 3149, 3150, 3152, 3153, 3155, 3156, 3158, 3159, 3161, 3162, 3164, 3165, 3167, 3168, 3170, 3171, 3173, 3174, 3176, 3177, 3179, 3180, 3182, 3183, 3185, 3186, 3188, 3189, 3191, 3192, 3194, 3195, 3197, 3198, 3200, 3201, 3203, 3204, 3206, 3207, 3209, 3210, 3212, 3213, 3215, 3216, 3218, 3219, 3221, 3222, 3224, 3225, 3227, 3228, 3230, 3231, 3233, 3234, 3236, 3237, 3239, 3240, 3242, 3243, 3245, 3246, 3248, 3249, 3251, 3252, 3254, 3255, 3257, 3258, 3260, 3261, 3263, 3264, 3266, 3267, 3269, 3270, 3272, 3273, 3275, 3276, 3278, 3279, 3281, 3282, 3284, 3285, 3287, 3288, 3290, 3291, 3293, 3294, 3296, 3297, 3299, 3300, 3302, 3303, 3305, 3306, 3308, 3309, 3311, 3312, 3314, 3315, 3317, 3318, 3320, 3321, 3323, 3324, 3326, 3327, 3329, 3330, 3332, 3333, 3335, 3336, 3338, 3339, 3341, 3342, 3344, 3345, 3347, 3348, 3350, 3351, 3353, 3354, 3356, 3357, 3359, 3360, 3362, 3363, 3365, 3366, 3368, 3369, 3371, 3372, 3374, 3375, 3377, 3378, 3380, 3381, 3383, 3384, 3386, 3387, 3389, 3390, 3392, 3393, 3395, 3396, 3398, 3399, 3401, 3402, 3404, 3405, 3407, 3408, 3410, 3411, 3413, 3414, 3416, 3417, 3419, 3420, 3422, 3423, 3425, 3426, 3428, 3429, 3431, 3432, 3434, 3435, 3437, 3438, 3440, 3441, 3443, 3444, 3446, 3447, 3449, 3450, 3452, 3453, 3455, 3456, 3458, 3459, 3461, 3462, 3464, 3465, 3467, 3468, 3470, 3471, 3473, 3474, 3476, 3477, 3479, 3480, 3482, 3483, 3485, 3486, 3488, 3489, 3491, 3492, 3494, 3495, 3497, 3498, 3500, 3501, 3503, 3504, 3506, 3507, 3509, 3510, 3512, 3513, 3515, 3516, 3518, 3519, 3521, 3522, 3524, 3525, 3527, 3528, 3530, 3531, 3533, 3534, 3536, 3537, 3539, 3540, 3542, 3543, 3545, 3546, 3548, 3549, 3551, 3552, 3554, 3555, 3557, 3558, 3560, 3561, 3563, 3564, 3566, 3567, 3569, 3570, 3572, 3573, 3575, 3576, 3578, 3579, 3581, 3582, 3584, 3585, 3587, 3588, 3590, 3591, 3593, 3594, 3596, 3597, 3599, 3600, 3602, 3603, 3605, 3606, 3608, 3609, 3611, 3612, 3614, 3615, 3617, 3618, 3620, 3621, 3623, 3624, 3626, 3627, 3629, 3630, 3632, 3633, 3635, 3636, 3638, 3639, 3641, 3642, 3644, 3645, 3647, 3648, 3650, 3651, 3653, 3654, 3656, 3657, 3659, 3660, 3662, 3663, 3665, 3666, 3668, 3669, 3671, 3672, 3674, 3675, 3677, 3678, 3680, 3681, 3683, 3684, 3686, 3687, 3689, 3690, 3692, 3693, 3695, 3696, 3698, 3699, 3701, 3702, 3704, 3705, 3707, 3708, 3710, 3711, 3713, 3714, 3716, 3717, 3719, 3720, 3722, 3723, 3725, 3726, 3728, 3729, 3731, 3732, 3734, 3735, 3737, 3738, 3740, 3741, 3743, 3744, 3746, 3747, 3749, 3750, 3752, 3753, 3755, 3756, 3758, 3759, 3761, 3762, 3764, 3765, 3767, 3768, 3770, 3771, 3773, 3774, 3776, 3777, 3779, 3780, 3782, 3783, 3785, 3786, 3788, 3789, 3791, 3792, 3794, 3795, 3797, 3798, 3800, 3801, 3803, 3804, 3806, 3807, 3809, 3810, 3812, 3813, 3815, 3816, 3818, 3819, 3821, 3822, 3824, 3825, 3827, 3828, 3830, 3831, 3833, 3834, 3836, 3837, 3839, 3840, 3842, 3843, 3845, 3846, 3848, 3849, 3851, 3852, 3854, 3855, 3857, 3858, 3860, 3861, 3863, 3864, 3866, 3867, 3869, 3870, 3872, 3873, 3875, 3876, 3878, 3879, 3881, 3882, 3884, 3885, 3887, 3888, 3890, 3891, 3893, 3894, 3896, 3897, 3899, 3900, 3902, 3903, 3905, 3906, 3908, 3909, 3911, 3912, 3914, 3915, 3917, 3918, 3920, 3921, 3923, 3924, 3926, 3927, 3929, 3930, 3932, 3933, 3935, 3936, 3938, 3939, 3941, 3942, 3944, 3945, 3947, 3948, 3950, 3951, 3953, 3954, 3956, 3957, 3959, 3960, 3962, 3963, 3965, 3966, 3968, 3969, 3971, 3972, 3974, 3975, 3977, 3978, 3980, 3981, 3983, 3984, 3986, 3987, 3989, 3990, 3992, 3993, 3995, 3996, 3998, 3999, 4001, 4002, 4004, 4005, 4007, 4008, 4010, 4011, 4013, 4014, 4016, 4017, 4019, 4020, 4022, 4023, 4025, 4026, 4028, 4029, 4031, 4032, 4034, 4035, 4037, 4038, 4040, 4041, 4043, 4044, 4046, 4047, 4049, 4050, 4052, 4053, 4055, 4056, 4058, 4059, 4061, 4062, 4064, 4065, 4067, 4068, 4070, 4071, 4073, 4074, 4076, 4077, 4079, 4080, 4082, 4083, 4085, 4086, 4088, 4089, 4091, 4092, 4094, 4095, 4097, 4098, 4100, 4101, 4103, 4104, 4106, 4107, 4109, 4110, 4112, 4113, 4115, 4116, 4118, 4119, 4121, 4122, 4124, 4125, 4127, 4128, 4130, 4131, 4133, 4134, 4136, 4137, 4139, 4140, 4142, 4143, 4145, 4146, 4148, 4149, 4151, 4152, 4154, 4155, 4157, 4158, 4160, 4161, 4163, 4164, 4166, 4167, 4169, 4170, 4172, 4173, 4175, 4176, 4178, 4179, 4181, 4182, 4184, 4185, 4187, 4188, 4190, 4191, 4193, 4194, 4196, 4197, 4199, 4200, 4202, 4203, 4205, 4206, 4208, 4209, 4211, 4212, 4214, 4215, 4217, 4218, 4220, 4221, 4223, 4224, 4226, 4227, 4229, 4230, 4232, 4233, 4235, 4236, 4238, 4239, 4241, 4242, 4244, 4245, 4247, 4248, 4250, 4251, 4253, 4254, 4256, 4257, 4259, 4260, 4262, 4263, 4265, 4266, 4268, 4269, 4271, 4272, 4274, 4275, 4277, 4278, 4280, 4281, 4283, 4284, 4286, 4287, 4289, 4290, 4292, 4293, 4295, 4296, 4298, 4299, 4301, 4302, 4304, 4305, 4307, 4308, 4310, 4311, 4313, 4314, 4316, 4317, 4319, 4320, 4322, 4323, 4325, 4326, 4328, 4329, 4331, 4332, 4334, 4335, 4337, 4338, 4340, 4341, 4343, 4344, 4346, 4347, 4349, 4350, 4352, 4353, 4355, 4356, 4358, 4359, 4361, 4362, 4364, 4365, 4367, 4368, 4370, 4371, 4373, 4374, 4376, 4377, 4379, 4380, 4382, 4383, 4385, 4386, 4388, 4389, 4391, 4392, 4394, 4395, 4397, 4398, 4400, 4401, 4403, 4404, 4406, 4407, 4409, 4410, 4412, 4413, 4415, 4416, 4418, 4419, 4421, 4422, 4424, 4425, 4427, 4428, 4430, 4431, 4433, 4434, 4436, 4437, 4439, 4440, 4442, 4443, 4445, 4446, 4448, 4449, 4451, 4452, 4454, 4455, 4457, 4458, 4460, 4461, 4463, 4464, 4466, 4467, 4469, 4470, 4472, 4473, 4475, 4476, 4478, 4479, 4481, 4482, 4484, 4485, 4487, 4488, 4490, 4491, 4493, 4494, 4496, 4497, 4499, 4500, 4502, 4503, 4505, 4506, 4508, 4509, 4511, 4512, 4514, 4515, 4517, 4518, 4520, 4521, 4523, 4524, 4526, 4527, 4529, 4530, 4532, 4533, 4535, 4536, 4538, 4539, 4541, 4542, 4544, 4545, 4547, 4548, 4550, 4551, 4553, 4554, 4556, 4557, 4559, 4560, 4562, 4563, 4565, 4566, 4568, 4569, 4571, 4572, 4574, 4575, 4577, 4578, 4580, 4581, 4583, 4584, 4586, 4587, 4589, 4590, 4592, 4593, 4595, 4596, 4598, 4599, 4601, 4602, 4604, 4605, 4607, 4608, 4610, 4611, 4613, 4614, 4616, 4617, 4619, 4620, 4622, 4623, 4625, 4626, 4628, 4629, 4631, 4632, 4634, 4635, 4637, 4638, 4640, 4641, 4643, 4644, 4646, 4647, 4649, 4650, 4652, 4653, 4655, 4656, 4658, 4659, 4661, 4662, 4664, 4665, 4667, 4668, 4670, 4671, 4673, 4674, 4676, 4677, 4679, 4680, 4682, 4683, 4685, 4686, 4688, 4689, 4691, 4692, 4694, 4695, 4697, 4698, 4700, 4701, 4703, 4704, 4706, 4707, 4709, 4710, 4712, 4713, 4715, 4716, 4718, 4719, 4721, 4722, 4724, 4725, 4727, 4728, 4730, 4731, 4733, 4734, 4736, 4737, 4739, 4740, 4742, 4743, 4745, 4746, 4748, 4749, 4751, 4752, 4754, 4755, 4757, 4758, 4760, 4761, 4763, 4764, 4766, 4767, 4769, 4770, 4772, 4773, 4775, 4776, 4778, 4779, 4781, 4782, 4784, 4785, 4787, 4788, 4790, 4791, 4793, 4794, 4796, 4797, 4799, 4800, 4802, 4803, 4805, 4806, 4808, 4809, 4811, 4812, 4814, 4815, 4817, 4818, 4820, 4821, 4823, 4824, 4826, 4827, 4829, 4830, 4832, 4833, 4835, 4836, 4838, 4839, 4841, 4842, 4844, 4845, 4847, 4848, 4850, 4851, 4853, 4854, 4856, 4857, 4859, 4860, 4862, 4863, 4865, 4866, 4868, 4869, 4871, 4872, 4874, 4875, 4877, 4878, 4880, 4881, 4883, 4884, 4886, 4887, 4889, 4890, 4892, 4893, 4895, 4896, 4898, 4899, 4901, 4902, 4904, 4905, 4907, 4908, 4910, 4911, 4913, 4914, 4916, 4917, 4919, 4920, 4922, 4923, 4925, 4926, 4928, 4929, 4931, 4932, 4934, 4935, 4937, 4938, 4940, 4941, 4943, 4944, 4946, 4947, 4949, 4950, 4952, 4953, 4955, 4956, 4958, 4959, 4961, 4962, 4964, 4965, 4967, 4968, 4970, 4971, 4973, 4974, 4976, 4977, 4979, 4980, 4982, 4983, 4985, 4986, 4988, 4989, 4991, 4992, 4994, 4995, 4997, 4998, 5000, 5001, 5003, 5004, 5006, 5007, 5009, 5010, 5012, 5013, 5015, 5016, 5018, 5019, 5021, 5022, 5024, 5025, 5027, 5028, 5030, 5031, 5033, 5034, 5036, 5037, 5039, 5040, 5042, 5043, 5045, 5046, 5048, 5049, 5051, 5052, 5054, 5055, 5057, 5058, 5060, 5061, 5063, 5064, 5066, 5067, 5069, 5070, 5072, 5073, 5075, 5076, 5078, 5079, 5081, 5082, 5084, 5085, 5087, 5088, 5090, 5091, 5093, 5094, 5096, 5097, 5099, 5100, 5102, 5103, 5105, 5106, 5108, 5109, 5111, 5112, 5114, 5115, 5117, 5118, 5120, 5121, 5123, 5124, 5126, 5127, 5129, 5130, 5132, 5133, 5135, 5136, 5138, 5139, 5141, 5142, 5144, 5145, 5147, 5148, 5150, 5151, 5153, 5154, 5156, 5157, 5159, 5160, 5162, 5163, 5165, 5166, 5168, 5169, 5171, 5172, 5174, 5175, 5177, 5178, 5180, 5181, 5183, 5184, 5186, 5187, 5189, 5190, 5192, 5193, 5195, 5196, 5198, 5199, 5201, 5202, 5204, 5205, 5207, 5208, 5210, 5211, 5213, 5214, 5216, 5217, 5219, 5220, 5222, 5223, 5225, 5226, 5228, 5229, 5231, 5232, 5234, 5235, 5237, 5238, 5240, 5241, 5243, 5244, 5246, 5247, 5249, 5250, 5252, 5253, 5255, 5256, 5258, 5259, 5261, 5262, 5264, 5265, 5267, 5268, 5270, 5271, 5273, 5274, 5276, 5277, 5279, 5280, 5282, 5283, 5285, 5286, 5288, 5289, 5291, 5292, 5294, 5295, 5297, 5298, 5300, 5301, 5303, 5304, 5306, 5307, 5309, 5310, 5312, 5313, 5315, 5316, 5318, 5319, 5321, 5322, 5324, 5325, 5327, 5328, 5330, 5331, 5333, 5334, 5336, 5337, 5339, 5340, 5342, 5343, 5345, 5346, 5348, 5349, 5351, 5352, 5354, 5355, 5357, 5358, 5360, 5361, 5363, 5364, 5366, 5367, 5369, 5370, 5372, 5373, 5375, 5376, 5378, 5379, 5381, 5382, 5384, 5385, 5387, 5388, 5390, 5391, 5393, 5394, 5396, 5397, 5399, 5400, 5402, 5403, 5405, 5406, 5408, 5409, 5411, 5412, 5414, 5415, 5417, 5418, 5420, 5421, 5423, 5424, 5426, 5427, 5429, 5430, 5432, 5433, 5435, 5436, 5438, 5439, 5441, 5442, 5444, 5445, 5447, 5448, 5450, 5451, 5453, 5454, 5456, 5457, 5459, 5460, 5462, 5463, 5465, 5466, 5468, 5469, 5471, 5472, 5474, 5475, 5477, 5478, 5480, 5481, 5483, 5484, 5486, 5487, 5489, 5490, 5492, 5493, 5495, 5496, 5498, 5499, 5501, 5502, 5504, 5505, 5507, 5508, 5510, 5511, 5513, 5514, 5516, 5517, 5519, 5520, 5522, 5523, 5525, 5526, 5528, 5529, 5531, 5532, 5534, 5535, 5537, 5538, 5540, 5541, 5543, 5544, 5546, 5547, 5549, 5550, 5552, 5553, 5555, 5556, 5558, 5559, 5561, 5562, 5564, 5565, 5567, 5568, 5570, 5571, 5573, 5574, 5576, 5577, 5579, 5580, 5582, 5583, 5585, 5586, 5588, 5589, 5591, 5592, 5594, 5595, 5597, 5598, 5600, 5601, 5603, 5604, 5606, 5607, 5609, 5610, 5612, 5613, 5615, 5616, 5618, 5619, 5621, 5622, 5624, 5625, 5627, 5628, 5630, 5631, 5633, 5634, 5636, 5637, 5639, 5640, 5642, 5643, 5645, 5646, 5648, 5649, 5651, 5652, 5654, 5655, 5657, 5658, 5660, 5661, 5663, 5664, 5666, 5667, 5669, 5670, 5672, 5673, 5675, 5676, 5678, 5679, 5681, 5682, 5684, 5685, 5687, 5688, 5690, 5691, 5693, 5694, 5696, 5697, 5699, 5700, 5702, 5703, 5705, 5706, 5708, 5709, 5711, 5712, 5714, 5715, 5717, 5718, 5720, 5721, 5723, 5724, 5726, 5727, 5729, 5730, 5732, 5733, 5735, 5736, 5738, 5739, 5741, 5742, 5744, 5745, 5747, 5748, 5750, 5751, 5753, 5754, 5756, 5757, 5759, 5760, 5762, 5763, 5765, 5766, 5768, 5769, 5771, 5772, 5774, 5775, 5777, 5778, 5780, 5781, 5783, 5784, 5786, 5787, 5789, 5790, 5792, 5793, 5795, 5796, 5798, 5799, 5801, 5802, 5804, 5805, 5807, 5808, 5810, 5811, 5813, 5814, 5816, 5817, 5819, 5820, 5822, 5823, 5825, 5826, 5828, 5829, 5831, 5832, 5834, 5835, 5837, 5838, 5840, 5841, 5843, 5844, 5846, 5847, 5849, 5850, 5852, 5853, 5855, 5856, 5858, 5859, 5861, 5862, 5864, 5865, 5867, 5868, 5870, 5871, 5873, 5874, 5876, 5877, 5879, 5880, 5882, 5883, 5885, 5886, 5888, 5889, 5891, 5892, 5894, 5895, 5897, 5898, 5900, 5901, 5903, 5904, 5906, 5907, 5909, 5910, 5912, 5913, 5915, 5916, 5918, 5919, 5921, 5922, 5924, 5925, 5927, 5928, 5930, 5931, 5933, 5934, 5936, 5937, 5939, 5940, 5942, 5943, 5945, 5946, 5948, 5949, 5951, 5952, 5954, 5955, 5957, 5958, 5960, 5961, 5963, 5964, 5966, 5967, 5969, 5970, 5972, 5973, 5975, 5976, 5978, 5979, 5981, 5982, 5984, 5985, 5987, 5988, 5990, 5991, 5993, 5994, 5996, 5997, 5999, 6000, 6002, 6003, 6005, 6006, 6008, 6009, 6011, 6012, 6014, 6015, 6017, 6018, 6020, 6021, 6023, 6024, 6026, 6027, 6029, 6030, 6032, 6033, 6035, 6036, 6038, 6039, 6041, 6042, 6044, 6045, 6047, 6048, 6050, 6051, 6053, 6054, 6056, 6057, 6059, 6060, 6062, 6063, 6065, 6066, 6068, 6069, 6071, 6072, 6074, 6075, 6077, 6078, 6080, 6081, 6083, 6084, 6086, 6087, 6089, 6090, 6092, 6093, 6095, 6096, 6098, 6099, 6101, 6102, 6104, 6105, 6107, 6108, 6110, 6111, 6113, 6114, 6116, 6117, 6119, 6120, 6122, 6123, 6125, 6126, 6128, 6129, 6131, 6132, 6134, 6135, 6137, 6138, 6140, 6141, 6143, 6144, 6146, 6147, 6149, 6150, 6152, 6153, 6155, 6156, 6158, 6159, 6161, 6162, 6164, 6165, 6167, 6168, 6170, 6171, 6173, 6174, 6176, 6177, 6179, 6180, 6182, 6183, 6185, 6186, 6188, 6189, 6191, 6192, 6194, 6195, 6197, 6198, 6200, 6201, 6203, 6204, 6206, 6207, 6209, 6210, 6212, 6213, 6215, 6216, 6218, 6219, 6221, 6222, 6224, 6225, 6227, 6228, 6230, 6231, 6233, 6234, 6236, 6237, 6239, 6240, 6242, 6243, 6245, 6246, 6248, 6249, 6251, 6252, 6254, 6255, 6257, 6258, 6260, 6261, 6263, 6264, 6266, 6267, 6269, 6270, 6272, 6273, 6275, 6276, 6278, 6279, 6281, 6282, 6284, 6285, 6287, 6288, 6290, 6291, 6293, 6294, 6296, 6297, 6299, 6300, 6302, 6303, 6305, 6306, 6308, 6309, 6311, 6312, 6314, 6315, 6317, 6318, 6320, 6321, 6323, 6324, 6326, 6327, 6329, 6330, 6332, 6333, 6335, 6336, 6338, 6339, 6341, 6342, 6344, 6345, 6347, 6348, 6350, 6351, 6353, 6354, 6356, 6357, 6359, 6360, 6362, 6363, 6365, 6366, 6368, 6369, 6371, 6372, 6374, 6375, 6377, 6378, 6380, 6381, 6383, 6384, 6386, 6387, 6389, 6390, 6392, 6393, 6395, 6396, 6398, 6399, 6401, 6402, 6404, 6405, 6407, 6408, 6410, 6411, 6413, 6414, 6416, 6417, 6419, 6420, 6422, 6423, 6425, 6426, 6428, 6429, 6431, 6432, 6434, 6435, 6437, 6438, 6440, 6441, 6443, 6444, 6446, 6447, 6449, 6450, 6452, 6453, 6455, 6456, 6458, 6459, 6461, 6462, 6464, 6465, 6467, 6468, 6470, 6471, 6473, 6474, 6476, 6477, 6479, 6480, 6482, 6483, 6485, 6486, 6488, 6489, 6491, 6492, 6494, 6495, 6497, 6498, 6500, 6501, 6503, 6504, 6506, 6507, 6509, 6510, 6512, 6513, 6515, 6516, 6518, 6519, 6521, 6522, 6524, 6525, 6527, 6528, 6530, 6531, 6533, 6534, 6536, 6537, 6539, 6540, 6542, 6543, 6545, 6546, 6548, 6549, 6551, 6552, 6554, 6555, 6557, 6558, 6560, 6561, 6563, 6564, 6566, 6567, 6569, 6570, 6572, 6573, 6575, 6576, 6578, 6579, 6581, 6582, 6584, 6585, 6587, 6588, 6590, 6591, 6593, 6594, 6596, 6597, 6599, 6600, 6602, 6603, 6605, 6606, 6608, 6609, 6611, 6612, 6614, 6615, 6617, 6618, 6620, 6621, 6623, 6624, 6626, 6627, 6629, 6630, 6632, 6633, 6635, 6636, 6638, 6639, 6641, 6642, 6644, 6645, 6647, 6648, 6650, 6651, 6653, 6654, 6656, 6657, 6659, 6660, 6662, 6663, 6665, 6666, 6668, 6669, 6671, 6672, 6674, 6675, 6677, 6678, 6680, 6681, 6683, 6684, 6686, 6687, 6689, 6690, 6692, 6693, 6695, 6696, 6698, 6699, 6701, 6702, 6704, 6705, 6707, 6708, 6710, 6711, 6713, 6714, 6716, 6717, 6719, 6720, 6722, 6723, 6725, 6726, 6728, 6729, 6731, 6732, 6734, 6735, 6737, 6738, 6740, 6741, 6743, 6744, 6746, 6747, 6749, 6750, 6752, 6753, 6755, 6756, 6758, 6759, 6761, 6762, 6764, 6765, 6767, 6768, 6770, 6771, 6773, 6774, 6776, 6777, 6779, 6780, 6782, 6783, 6785, 6786, 6788, 6789, 6791, 6792, 6794, 6795, 6797, 6798, 6800, 6801, 6803, 6804, 6806, 6807, 6809, 6810, 6812, 6813, 6815, 6816, 6818, 6819, 6821, 6822, 6824, 6825, 6827, 6828, 6830, 6831, 6833, 6834, 6836, 6837, 6839, 6840, 6842, 6843, 6845, 6846, 6848, 6849, 6851, 6852, 6854, 6855, 6857, 6858, 6860, 6861, 6863, 6864, 6866, 6867, 6869, 6870, 6872, 6873, 6875, 6876, 6878, 6879, 6881, 6882, 6884, 6885, 6887, 6888, 6890, 6891, 6893, 6894, 6896, 6897, 6899, 6900, 6902, 6903, 6905, 6906, 6908, 6909, 6911, 6912, 6914, 6915, 6917, 6918, 6920, 6921, 6923, 6924, 6926, 6927, 6929, 6930, 6932, 6933, 6935, 6936, 6938, 6939, 6941, 6942, 6944, 6945, 6947, 6948, 6950, 6951, 6953, 6954, 6956, 6957, 6959, 6960, 6962, 6963, 6965, 6966, 6968, 6969, 6971, 6972, 6974, 6975, 6977, 6978, 6980, 6981, 6983, 6984, 6986, 6987, 6989, 6990, 6992, 6993, 6995, 6996, 6998, 6999, 7001, 7002, 7004, 7005, 7007, 7008, 7010, 7011, 7013, 7014, 7016, 7017, 7019, 7020, 7022, 7023, 7025, 7026, 7028, 7029, 7031, 7032, 7034, 7035, 7037, 7038, 7040, 7041, 7043, 7044, 7046, 7047, 7049, 7050, 7052, 7053, 7055, 7056, 7058, 7059, 7061, 7062, 7064, 7065, 7067, 7068, 7070, 7071, 7073, 7074, 7076, 7077, 7079, 7080, 7082, 7083, 7085, 7086, 7088, 7089, 7091, 7092, 7094, 7095, 7097, 7098, 7100, 7101, 7103, 7104, 7106, 7107, 7109, 7110, 7112, 7113, 7115, 7116, 7118, 7119, 7121, 7122, 7124, 7125, 7127, 7128, 7130, 7131, 7133, 7134, 7136, 7137, 7139, 7140, 7142, 7143, 7145, 7146, 7148, 7149, 7151, 7152, 7154, 7155, 7157, 7158, 7160, 7161, 7163, 7164, 7166, 7167, 7169, 7170, 7172, 7173, 7175, 7176, 7178, 7179, 7181, 7182, 7184, 7185, 7187, 7188, 7190, 7191, 7193, 7194, 7196, 7197, 7199, 7200, 7202, 7203, 7205, 7206, 7208, 7209, 7211, 7212, 7214, 7215, 7217, 7218, 7220, 7221, 7223, 7224, 7226, 7227, 7229, 7230, 7232, 7233, 7235, 7236, 7238, 7239, 7241, 7242, 7244, 7245, 7247, 7248, 7250, 7251, 7253, 7254, 7256, 7257, 7259, 7260, 7262, 7263, 7265, 7266, 7268, 7269, 7271, 7272, 7274, 7275, 7277, 7278, 7280, 7281, 7283, 7284, 7286, 7287, 7289, 7290, 7292, 7293, 7295, 7296, 7298, 7299, 7301, 7302, 7304, 7305, 7307, 7308, 7310, 7311, 7313, 7314, 7316, 7317, 7319, 7320, 7322, 7323, 7325, 7326, 7328, 7329, 7331, 7332, 7334, 7335, 7337, 7338, 7340, 7341, 7343, 7344, 7346, 7347, 7349, 7350, 7352, 7353, 7355, 7356, 7358, 7359, 7361, 7362, 7364, 7365, 7367, 7368, 7370, 7371, 7373, 7374, 7376, 7377, 7379, 7380, 7382, 7383, 7385, 7386, 7388, 7389, 7391, 7392, 7394, 7395, 7397, 7398, 7400, 7401, 7403, 7404, 7406, 7407, 7409, 7410, 7412, 7413, 7415, 7416, 7418, 7419, 7421, 7422, 7424, 7425, 7427, 7428, 7430, 7431, 7433, 7434, 7436, 7437, 7439, 7440, 7442, 7443, 7445, 7446, 7448, 7449, 7451, 7452, 7454, 7455, 7457, 7458, 7460, 7461, 7463, 7464, 7466, 7467, 7469, 7470, 7472, 7473, 7475, 7476, 7478, 7479, 7481, 7482, 7484, 7485, 7487, 7488, 7490, 7491, 7493, 7494, 7496, 7497, 7499, 7500, 7502, 7503, 7505, 7506, 7508, 7509, 7511, 7512, 7514, 7515, 7517, 7518, 7520, 7521, 7523, 7524, 7526, 7527, 7529, 7530, 7532, 7533, 7535, 7536, 7538, 7539, 7541, 7542, 7544, 7545, 7547, 7548, 7550, 7551, 7553, 7554, 7556, 7557, 7559, 7560, 7562, 7563, 7565, 7566, 7568, 7569, 7571, 7572, 7574, 7575, 7577, 7578, 7580, 7581, 7583, 7584, 7586, 7587, 7589, 7590, 7592, 7593, 7595, 7596, 7598, 7599, 7601, 7602, 7604, 7605, 7607, 7608, 7610, 7611, 7613, 7614, 7616, 7617, 7619, 7620, 7622, 7623, 7625, 7626, 7628, 7629, 7631, 7632, 7634, 7635, 7637, 7638, 7640, 7641, 7643, 7644, 7646, 7647, 7649, 7650, 7652, 7653, 7655, 7656, 7658, 7659, 7661, 7662, 7664, 7665, 7667, 7668, 7670, 7671, 7673, 7674, 7676, 7677, 7679, 7680, 7682, 7683, 7685, 7686, 7688, 7689, 7691, 7692, 7694, 7695, 7697, 7698, 7700, 7701, 7703, 7704, 7706, 7707, 7709, 7710, 7712, 7713, 7715, 7716, 7718, 7719, 7721, 7722, 7724, 7725, 7727, 7728, 7730, 7731, 7733, 7734, 7736, 7737, 7739, 7740, 7742, 7743, 7745, 7746, 7748, 7749, 7751, 7752, 7754, 7755, 7757, 7758, 7760, 7761, 7763, 7764, 7766, 7767, 7769, 7770, 7772, 7773, 7775, 7776, 7778, 7779, 7781, 7782, 7784, 7785, 7787, 7788, 7790, 7791, 7793, 7794, 7796, 7797, 7799, 7800, 7802, 7803, 7805, 7806, 7808, 7809, 7811, 7812, 7814, 7815, 7817, 7818, 7820, 7821, 7823, 7824, 7826, 7827, 7829, 7830, 7832, 7833, 7835, 7836, 7838, 7839, 7841, 7842, 7844, 7845, 7847, 7848, 7850, 7851, 7853, 7854, 7856, 7857, 7859, 7860, 7862, 7863, 7865, 7866, 7868, 7869, 7871, 7872, 7874, 7875, 7877, 7878, 7880, 7881, 7883, 7884, 7886, 7887, 7889, 7890, 7892, 7893, 7895, 7896, 7898, 7899, 7901, 7902, 7904, 7905, 7907, 7908, 7910, 7911, 7913, 7914, 7916, 7917, 7919, 7920, 7922, 7923, 7925, 7926, 7928, 7929, 7931, 7932, 7934, 7935, 7937, 7938, 7940, 7941, 7943, 7944, 7946, 7947, 7949, 7950, 7952, 7953, 7955, 7956, 7958, 7959, 7961, 7962, 7964, 7965, 7967, 7968, 7970, 7971, 7973, 7974, 7976, 7977, 7979, 7980, 7982, 7983, 7985, 7986, 7988, 7989, 7991, 7992, 7994, 7995, 7997, 7998, 8000, 8001, 8003, 8004, 8006, 8007, 8009, 8010, 8012, 8013, 8015, 8016, 8018, 8019, 8021, 8022, 8024, 8025, 8027, 8028, 8030, 8031, 8033, 8034, 8036, 8037, 8039, 8040, 8042, 8043, 8045, 8046, 8048, 8049, 8051, 8052, 8054, 8055, 8057, 8058, 8060, 8061, 8063, 8064, 8066, 8067, 8069, 8070, 8072, 8073, 8075, 8076, 8078, 8079, 8081, 8082, 8084, 8085, 8087, 8088, 8090, 8091, 8093, 8094, 8096, 8097, 8099, 8100, 8102, 8103, 8105, 8106, 8108, 8109, 8111, 8112, 8114, 8115, 8117, 8118, 8120, 8121, 8123, 8124, 8126, 8127, 8129, 8130, 8132, 8133, 8135, 8136, 8138, 8139, 8141, 8142, 8144, 8145, 8147, 8148, 8150, 8151, 8153, 8154, 8156, 8157, 8159, 8160, 8162, 8163, 8165, 8166, 8168, 8169, 8171, 8172, 8174, 8175, 8177, 8178, 8180, 8181, 8183, 8184, 8186, 8187, 8189, 8190, 8192, 8193, 8195, 8196, 8198, 8199, 8201, 8202, 8204, 8205, 8207, 8208, 8210, 8211, 8213, 8214, 8216, 8217, 8219, 8220, 8222, 8223, 8225, 8226, 8228, 8229, 8231, 8232, 8234, 8235, 8237, 8238, 8240, 8241, 8243, 8244, 8246, 8247, 8249, 8250, 8252, 8253, 8255, 8256, 8258, 8259, 8261, 8262, 8264, 8265, 8267, 8268, 8270, 8271, 8273, 8274, 8276, 8277, 8279, 8280, 8282, 8283, 8285, 8286, 8288, 8289, 8291, 8292, 8294, 8295, 8297, 8298, 8300, 8301, 8303, 8304, 8306, 8307, 8309, 8310, 8312, 8313, 8315, 8316, 8318, 8319, 8321, 8322, 8324, 8325, 8327, 8328, 8330, 8331, 8333, 8334, 8336, 8337, 8339, 8340, 8342, 8343, 8345, 8346, 8348, 8349, 8351, 8352, 8354, 8355, 8357, 8358, 8360, 8361, 8363, 8364, 8366, 8367, 8369, 8370, 8372, 8373, 8375, 8376, 8378, 8379, 8381, 8382, 8384, 8385, 8387, 8388, 8390, 8391, 8393, 8394, 8396, 8397, 8399, 8400, 8402, 8403, 8405, 8406, 8408, 8409, 8411, 8412, 8414, 8415, 8417, 8418, 8420, 8421, 8423, 8424, 8426, 8427, 8429, 8430, 8432, 8433, 8435, 8436, 8438, 8439, 8441, 8442, 8444, 8445, 8447, 8448, 8450, 8451, 8453, 8454, 8456, 8457, 8459, 8460, 8462, 8463, 8465, 8466, 8468, 8469, 8471, 8472, 8474, 8475, 8477, 8478, 8480, 8481, 8483, 8484, 8486, 8487, 8489, 8490, 8492, 8493, 8495, 8496, 8498, 8499, 8501, 8502, 8504, 8505, 8507, 8508, 8510, 8511, 8513, 8514, 8516, 8517, 8519, 8520, 8522, 8523, 8525, 8526, 8528, 8529, 8531, 8532, 8534, 8535, 8537, 8538, 8540, 8541, 8543, 8544, 8546, 8547, 8549, 8550, 8552, 8553, 8555, 8556, 8558, 8559, 8561, 8562, 8564, 8565, 8567, 8568, 8570, 8571, 8573, 8574, 8576, 8577, 8579, 8580, 8582, 8583, 8585, 8586, 8588, 8589, 8591, 8592, 8594, 8595, 8597, 8598, 8600, 8601, 8603, 8604, 8606, 8607, 8609, 8610, 8612, 8613, 8615, 8616, 8618, 8619, 8621, 8622, 8624, 8625, 8627, 8628, 8630, 8631, 8633, 8634, 8636, 8637, 8639, 8640, 8642, 8643, 8645, 8646, 8648, 8649, 8651, 8652, 8654, 8655, 8657, 8658, 8660, 8661, 8663, 8664, 8666, 8667, 8669, 8670, 8672, 8673, 8675, 8676, 8678, 8679, 8681, 8682, 8684, 8685, 8687, 8688, 8690, 8691, 8693, 8694, 8696, 8697, 8699, 8700, 8702, 8703, 8705, 8706, 8708, 8709, 8711, 8712, 8714, 8715, 8717, 8718, 8720, 8721, 8723, 8724, 8726, 8727, 8729, 8730, 8732, 8733, 8735, 8736, 8738, 8739, 8741, 8742, 8744, 8745, 8747, 8748, 8750, 8751, 8753, 8754, 8756, 8757, 8759, 8760, 8762, 8763, 8765, 8766, 8768, 8769, 8771, 8772, 8774, 8775, 8777, 8778, 8780, 8781, 8783, 8784, 8786, 8787, 8789, 8790, 8792, 8793, 8795, 8796, 8798, 8799, 8801, 8802, 8804, 8805, 8807, 8808, 8810, 8811, 8813, 8814, 8816, 8817, 8819, 8820, 8822, 8823, 8825, 8826, 8828, 8829, 8831, 8832, 8834, 8835, 8837, 8838, 8840, 8841, 8843, 8844, 8846, 8847, 8849, 8850, 8852, 8853, 8855, 8856, 8858, 8859, 8861, 8862, 8864, 8865, 8867, 8868, 8870, 8871, 8873, 8874, 8876, 8877, 8879, 8880, 8882, 8883, 8885, 8886, 8888, 8889, 8891, 8892, 8894, 8895, 8897, 8898, 8900, 8901, 8903, 8904, 8906, 8907, 8909, 8910, 8912, 8913, 8915, 8916, 8918, 8919, 8921, 8922, 8924, 8925, 8927, 8928, 8930, 8931, 8933, 8934, 8936, 8937, 8939, 8940, 8942, 8943, 8945, 8946, 8948, 8949, 8951, 8952, 8954, 8955, 8957, 8958, 8960, 8961, 8963, 8964, 8966, 8967, 8969, 8970, 8972, 8973, 8975, 8976, 8978, 8979, 8981, 8982, 8984, 8985, 8987, 8988, 8990, 8991, 8993, 8994, 8996, 8997, 8999, 9000, 9002, 9003, 9005, 9006, 9008, 9009, 9011, 9012, 9014, 9015, 9017, 9018, 9020, 9021, 9023, 9024, 9026, 9027, 9029, 9030, 9032, 9033, 9035, 9036, 9038, 9039, 9041, 9042, 9044, 9045, 9047, 9048, 9050, 9051, 9053, 9054, 9056, 9057, 9059, 9060, 9062, 9063, 9065, 9066, 9068, 9069, 9071, 9072, 9074, 9075, 9077, 9078, 9080, 9081, 9083, 9084, 9086, 9087, 9089, 9090, 9092, 9093, 9095, 9096, 9098, 9099, 9101, 9102, 9104, 9105, 9107, 9108, 9110, 9111, 9113, 9114, 9116, 9117, 9119, 9120, 9122, 9123, 9125, 9126, 9128, 9129, 9131, 9132, 9134, 9135, 9137, 9138, 9140, 9141, 9143, 9144, 9146, 9147, 9149, 9150, 9152, 9153, 9155, 9156, 9158, 9159, 9161, 9162, 9164, 9165, 9167, 9168, 9170, 9171, 9173, 9174, 9176, 9177, 9179, 9180, 9182, 9183, 9185, 9186, 9188, 9189, 9191, 9192, 9194, 9195, 9197, 9198, 9200, 9201, 9203, 9204, 9206, 9207, 9209, 9210, 9212, 9213, 9215, 9216, 9218, 9219, 9221, 9222, 9224, 9225, 9227, 9228, 9230, 9231, 9233, 9234, 9236, 9237, 9239, 9240, 9242, 9243, 9245, 9246, 9248, 9249, 9251, 9252, 9254, 9255, 9257, 9258, 9260, 9261, 9263, 9264, 9266, 9267, 9269, 9270, 9272, 9273, 9275, 9276, 9278, 9279, 9281, 9282, 9284, 9285, 9287, 9288, 9290, 9291, 9293, 9294, 9296, 9297, 9299, 9300, 9302, 9303, 9305, 9306, 9308, 9309, 9311, 9312, 9314, 9315, 9317, 9318, 9320, 9321, 9323, 9324, 9326, 9327, 9329, 9330, 9332, 9333, 9335, 9336, 9338, 9339, 9341, 9342, 9344, 9345, 9347, 9348, 9350, 9351, 9353, 9354, 9356, 9357, 9359, 9360, 9362, 9363, 9365, 9366, 9368, 9369, 9371, 9372, 9374, 9375, 9377, 9378, 9380, 9381, 9383, 9384, 9386, 9387, 9389, 9390, 9392, 9393, 9395, 9396, 9398, 9399, 9401, 9402, 9404, 9405, 9407, 9408, 9410, 9411, 9413, 9414, 9416, 9417, 9419, 9420, 9422, 9423, 9425, 9426, 9428, 9429, 9431, 9432, 9434, 9435, 9437, 9438, 9440, 9441, 9443, 9444, 9446, 9447, 9449, 9450, 9452, 9453, 9455, 9456, 9458, 9459, 9461, 9462, 9464, 9465, 9467, 9468, 9470, 9471, 9473, 9474, 9476, 9477, 9479, 9480, 9482, 9483, 9485, 9486, 9488, 9489, 9491, 9492, 9494, 9495, 9497, 9498, 9500, 9501, 9503, 9504, 9506, 9507, 9509, 9510, 9512, 9513, 9515, 9516, 9518, 9519, 9521, 9522, 9524, 9525, 9527, 9528, 9530, 9531, 9533, 9534, 9536, 9537, 9539, 9540, 9542, 9543, 9545, 9546, 9548, 9549, 9551, 9552, 9554, 9555, 9557, 9558, 9560, 9561, 9563, 9564, 9566, 9567, 9569, 9570, 9572, 9573, 9575, 9576, 9578, 9579, 9581, 9582, 9584, 9585, 9587, 9588, 9590, 9591, 9593, 9594, 9596, 9597, 9599, 9600, 9602, 9603, 9605, 9606, 9608, 9609, 9611, 9612, 9614, 9615, 9617, 9618, 9620, 9621, 9623, 9624, 9626, 9627, 9629, 9630, 9632, 9633, 9635, 9636, 9638, 9639, 9641, 9642, 9644, 9645, 9647, 9648, 9650, 9651, 9653, 9654, 9656, 9657, 9659, 9660, 9662, 9663, 9665, 9666, 9668, 9669, 9671, 9672, 9674, 9675, 9677, 9678, 9680, 9681, 9683, 9684, 9686, 9687, 9689, 9690, 9692, 9693, 9695, 9696, 9698, 9699, 9701, 9702, 9704, 9705, 9707, 9708, 9710, 9711, 9713, 9714, 9716, 9717, 9719, 9720, 9722, 9723, 9725, 9726, 9728, 9729, 9731, 9732, 9734, 9735, 9737, 9738, 9740, 9741, 9743, 9744, 9746, 9747, 9749, 9750, 9752, 9753, 9755, 9756, 9758, 9759, 9761, 9762, 9764, 9765, 9767, 9768, 9770, 9771, 9773, 9774, 9776, 9777, 9779, 9780, 9782, 9783, 9785, 9786, 9788, 9789, 9791, 9792, 9794, 9795, 9797, 9798, 9800, 9801, 9803, 9804, 9806, 9807, 9809, 9810, 9812, 9813, 9815, 9816, 9818, 9819, 9821, 9822, 9824, 9825, 9827, 9828, 9830, 9831, 9833, 9834, 9836, 9837, 9839, 9840, 9842, 9843, 9845, 9846, 9848, 9849, 9851, 9852, 9854, 9855, 9857, 9858, 9860, 9861, 9863, 9864, 9866, 9867, 9869, 9870, 9872, 9873, 9875, 9876, 9878, 9879, 9881, 9882, 9884, 9885, 9887, 9888, 9890, 9891, 9893, 9894, 9896, 9897, 9899, 9900, 9902, 9903, 9905, 9906, 9908, 9909, 9911, 9912, 9914, 9915, 9917, 9918, 9920, 9921, 9923, 9924, 9926, 9927, 9929, 9930, 9932, 9933, 9935, 9936, 9938, 9939, 9941, 9942, 9944, 9945, 9947, 9948, 9950, 9951, 9953, 9954, 9956, 9957, 9959, 9960, 9962, 9963, 9965, 9966, 9968, 9969, 9971, 9972, 9974, 9975, 9977, 9978, 9980, 9981, 9983, 9984, 9986, 9987, 9989, 9990, 9992, 9993, 9995, 9996, 9998, 9999, 10001, 10002, 10004, 10005, 10007, 10008, 10010, 10011, 10013, 10014, 10016, 10017, 10019, 10020, 10022, 10023, 10025, 10026, 10028, 10029, 10031, 10032, 10034, 10035, 10037, 10038, 10040, 10041, 10043, 10044, 10046, 10047, 10049, 10050, 10052, 10053, 10055, 10056, 10058, 10059, 10061, 10062, 10064, 10065, 10067, 10068, 10070, 10071, 10073, 10074, 10076, 10077, 10079, 10080, 10082, 10083, 10085, 10086, 10088, 10089, 10091, 10092, 10094, 10095, 10097, 10098, 10100, 10101, 10103, 10104, 10106, 10107, 10109, 10110, 10112, 10113, 10115, 10116, 10118, 10119, 10121, 10122, 10124, 10125], ComplexF64[0.2 + 0.0im, 0.28284271247461906 + 0.0im, 0.2 + 0.0im, 0.28284271247461906 + 0.0im, 0.2 + 0.0im, 0.28284271247461906 + 0.0im, 0.2 + 0.0im, 0.28284271247461906 + 0.0im, 0.2 + 0.0im, 0.28284271247461906 + 0.0im  …  0.2 + 0.0im, 0.28284271247461906 + 0.0im, 0.2 + 0.0im, 0.28284271247461906 + 0.0im, 0.2 + 0.0im, 0.28284271247461906 + 0.0im, 0.2 + 0.0im, 0.28284271247461906 + 0.0im, 0.2 + 0.0im, 0.28284271247461906 + 0.0im], 10125, 10125)"
      ]
     },
     "metadata": {},
     "output_type": "display_data"
    }
   ],
   "source": [
    "### define loss operator\n",
    "T1 = 25\n",
    "κ = 1/T1\n",
    "qubit_loss = sqrt(κ)*q ⊗ Ic ⊗ Ic ⊗ Ic\n",
    "J = [qubit_loss]"
   ]
  },
  {
   "cell_type": "code",
   "execution_count": 5,
   "metadata": {},
   "outputs": [
    {
     "name": "stdout",
     "output_type": "stream",
     "text": [
      "step 1 done"
     ]
    },
    {
     "name": "stdout",
     "output_type": "stream",
     "text": [
      "step 2 done"
     ]
    },
    {
     "name": "stdout",
     "output_type": "stream",
     "text": [
      "step 3 done"
     ]
    },
    {
     "name": "stdout",
     "output_type": "stream",
     "text": [
      "step 4 done"
     ]
    },
    {
     "name": "stdout",
     "output_type": "stream",
     "text": [
      "step 5 done"
     ]
    },
    {
     "name": "stdout",
     "output_type": "stream",
     "text": [
      "step 6 done"
     ]
    },
    {
     "ename": "OutOfMemoryError",
     "evalue": "OutOfMemoryError()",
     "output_type": "error",
     "traceback": [
      "OutOfMemoryError()\n",
      "\n",
      "Stacktrace:\n",
      " [1] Array\n",
      "   @ .\\boot.jl:479 [inlined]\n",
      " [2] Array\n",
      "   @ .\\boot.jl:487 [inlined]\n",
      " [3] kron(A::LinearAlgebra.Diagonal{ComplexF64, FillArrays.Ones{ComplexF64, 1, Tuple{Base.OneTo{Int64}}}}, B::Matrix{ComplexF64})\n",
      "   @ LinearAlgebra C:\\Users\\jonat\\AppData\\Local\\Programs\\Julia-1.9.2\\share\\julia\\stdlib\\v1.9\\LinearAlgebra\\src\\dense.jl:466\n",
      " [4] tensor(a::Operator{CompositeBasis{Vector{Int64}, Tuple{FockBasis{Int64}, FockBasis{Int64}, FockBasis{Int64}}}, CompositeBasis{Vector{Int64}, Tuple{FockBasis{Int64}, FockBasis{Int64}, FockBasis{Int64}}}, Matrix{ComplexF64}}, b::Operator{FockBasis{Int64}, FockBasis{Int64}, LinearAlgebra.Diagonal{ComplexF64, FillArrays.Ones{ComplexF64, 1, Tuple{Base.OneTo{Int64}}}}})\n",
      "   @ QuantumOpticsBase C:\\Users\\jonat\\.julia\\packages\\QuantumOpticsBase\\l5btd\\src\\operators_dense.jl:131\n",
      " [5] R_evolution_ge_loss(δ::Float64, t::Vector{Float64}, ρ::Operator{CompositeBasis{Vector{Int64}, NTuple{4, FockBasis{Int64}}}, CompositeBasis{Vector{Int64}, NTuple{4, FockBasis{Int64}}}, Matrix{ComplexF64}}, J::Vector{Operator{CompositeBasis{Vector{Int64}, NTuple{4, FockBasis{Int64}}}, CompositeBasis{Vector{Int64}, NTuple{4, FockBasis{Int64}}}, SparseArrays.SparseMatrixCSC{ComplexF64, Int64}}}, θ::Float64)\n",
      "   @ Main c:\\Users\\jonat\\Desktop\\Code\\multimode\\W_state\\W_jon_protocol_loss_impact_on_dm.ipynb:84\n",
      " [6] top-level scope\n",
      "   @ c:\\Users\\jonat\\Desktop\\Code\\multimode\\W_state\\W_jon_protocol_loss_impact_on_dm.ipynb:34"
     ]
    }
   ],
   "source": [
    "θ = π/2# rotate around y axis\n",
    "ϕ = 0.95531*2\n",
    "t_list_rotation = [0:0.01:0.05;]\n",
    "t_list_displacement = [0:0.01:0.05;]\n",
    "t_list_conditinal_displacement = [0:0.1:0.6;]\n",
    "\n",
    "α = 2.8*1im # relative scaling factor. final state will be α00 + 0α0 +...\n",
    "\n",
    "β_list_1 = [-2,1,1].*α/2\n",
    "β_list_2 = [2,0,-2].*α/2\n",
    "α_list = [0, 0.5,0.5].*α*1im\n",
    "\n",
    "# 0. Start in gvvv \n",
    "ψ0 = gvvv\n",
    "# 1. rotate ge by pi/2\n",
    "ψ1 = R_evolution_ge_loss(ϕ*1/(last(t_list_rotation)), t_list_rotation, ψ0, J, θ) # roation around y\n",
    "print(\"step 1 done\")\n",
    "# 2. conditional ge displacement\n",
    "ψ2 = triple_CD_ge_evolution_loss(β_list_1.*(1/last(t_list_conditinal_displacement)), t_list_conditinal_displacement, ψ1, J)\n",
    "print(\"step 2 done\")\n",
    "# 3. rotate ef by pi/2\n",
    "ψ3 = R_evolution_ef_loss(π/2*1/(last(t_list_rotation)), t_list_rotation, ψ2, J, θ)\n",
    "print(\"step 3 done\")\n",
    "# 4. conditional gf displacement\n",
    "ψ4 = triple_CD_gf_evolution_loss(β_list_2.*1/last(t_list_conditinal_displacement), t_list_conditinal_displacement, ψ3, J)\n",
    "print(\"step 4 done\")\n",
    "# 5. Single displacements  g\n",
    "ψ5 = D_evolution_loss(α_list*1/(last(t_list_displacement)), t_list_displacement, ψ4, J)\n",
    "print(\"step 5 done\")\n",
    "# 6. rotate ef by pi/2\n",
    "ψ6 = R_evolution_ef_loss(-π/2*1/(last(t_list_rotation)), t_list_rotation, ψ5,J, θ)\n",
    "print(\"step 6 done\")\n",
    "# 7. rotate ge by pi/2\n",
    "ψ7 = R_evolution_ge_loss(-ϕ*1/(last(t_list_rotation)), t_list_rotation, ψ6,J, θ)\n",
    "print(\"step 7 done\")\n",
    "# 8. project on g\n",
    "ψ8 = normalize(proj_g  *ψ7);\n",
    "ψ8_cav = ptrace(ψ8, [1])\n"
   ]
  },
  {
   "cell_type": "code",
   "execution_count": 6,
   "metadata": {},
   "outputs": [
    {
     "ename": "UndefVarError",
     "evalue": "UndefVarError: `ψ8` not defined",
     "output_type": "error",
     "traceback": [
      "UndefVarError: `ψ8` not defined\n",
      "\n",
      "Stacktrace:\n",
      " [1] top-level scope\n",
      "   @ c:\\Users\\jonat\\Desktop\\Code\\multimode\\W_state\\W_jon_protocol_loss_impact_on_dm.ipynb:17"
     ]
    }
   ],
   "source": [
    "# Analysis\n",
    "# define projectors on the wanted final state components\n",
    "sα00 = coherentstate(fb,α*1im) ⊗ vac ⊗ vac\n",
    "s0α0 = vac ⊗ coherentstate(fb,α*1im) ⊗ vac\n",
    "s00α = vac ⊗ vac ⊗ coherentstate(fb,α*1im)\n",
    "\n",
    "state_list = [sα00,s0α0,s00α]\n",
    "# define ideal W state with given size\n",
    "W_state = 1/√3*(sα00 + s0α0 + s00α)\n",
    "\n",
    "\n",
    "fig, axs = subplots(2,3)\n",
    "quick_plot_wigner(ptrace(W_state,[2,3]), ax = axs[1,1])\n",
    "quick_plot_wigner(ptrace(W_state,[1,3]), ax = axs[1,2])\n",
    "quick_plot_wigner(ptrace(W_state,[2,3]), ax = axs[1,3])\n",
    "\n",
    "quick_plot_wigner(ptrace(ψ8,[1,3,4]), ax = axs[2,1])\n",
    "quick_plot_wigner(ptrace(ψ8,[1,2,4]), ax = axs[2,2])\n",
    "quick_plot_wigner(ptrace(ψ8,[1,2,3]), ax = axs[2,3])\n",
    "\n",
    "#ideal dm \n",
    "println(\"Ideal Density matrix\")\n",
    "println()\n",
    "result_array = zeros(Complex,3, 3)\n",
    "for i in 1:3\n",
    "    for j in 1:3\n",
    "        result_array[i, j] = dagger(state_list[i]) *dm(W_state)* state_list[j]\n",
    "    end\n",
    "end\n",
    "show(stdout, \"text/plain\", result_array)\n",
    "\n",
    "println()\n",
    "println(\"Protocol Density matrix\")\n",
    "println()\n",
    "result_array = zeros(Complex,3, 3)\n",
    "for i in 1:3\n",
    "    for j in 1:3\n",
    "        result_array[i, j] = dagger(state_list[i]) *ψ8_cav* state_list[j]\n",
    "    end\n",
    "end\n",
    "show(stdout, \"text/plain\", result_array)\n",
    "\n",
    "\n",
    "# Wigner Functions\n",
    "println()\n",
    "println(\"Wigner Functions:\")\n",
    "\n",
    "println()\n",
    "println(\"State fidelity is: \", abs(fidelity(ψ8_cav,dm(W_state))))\n",
    "\n",
    "\n",
    "gcf()"
   ]
  }
 ],
 "metadata": {
  "kernelspec": {
   "display_name": "Julia 1.9.2",
   "language": "julia",
   "name": "julia-1.9"
  },
  "language_info": {
   "file_extension": ".jl",
   "mimetype": "application/julia",
   "name": "julia",
   "version": "1.9.2"
  }
 },
 "nbformat": 4,
 "nbformat_minor": 2
}
