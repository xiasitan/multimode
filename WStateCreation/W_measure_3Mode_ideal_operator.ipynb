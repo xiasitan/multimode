{
 "cells": [
  {
   "cell_type": "code",
   "execution_count": 2,
   "metadata": {},
   "outputs": [
    {
     "data": {
      "text/plain": [
       "Ket(dim=14739)\n",
       "  basis: [Fock(cutoff=2) ⊗ Fock(cutoff=16) ⊗ Fock(cutoff=16) ⊗ Fock(cutoff=16)]\n",
       " 0.7071067811865475 + 0.0im\n",
       "                0.0 + 0.0im\n",
       " 0.7071067811865475 + 0.0im\n",
       "                0.0 + 0.0im\n",
       "                0.0 + 0.0im\n",
       "                0.0 + 0.0im\n",
       "                0.0 + 0.0im\n",
       "                0.0 + 0.0im\n",
       "                0.0 + 0.0im\n",
       "                0.0 + 0.0im\n",
       "                    ⋮\n",
       "                0.0 + 0.0im\n",
       "                0.0 + 0.0im\n",
       "                0.0 + 0.0im\n",
       "                0.0 + 0.0im\n",
       "                0.0 + 0.0im\n",
       "                0.0 + 0.0im\n",
       "                0.0 + 0.0im\n",
       "                0.0 + 0.0im\n",
       "                0.0 + 0.0im"
      ]
     },
     "metadata": {},
     "output_type": "display_data"
    }
   ],
   "source": [
    "using QuantumOptics\n",
    "\n",
    "const N = 17 # Cavity Dimension\n",
    "\n",
    "# Cavity Operators\n",
    "fb = FockBasis(N-1)\n",
    "\n",
    "a = destroy(fb)\n",
    "at = create(fb)\n",
    "Ic = identityoperator(fb)\n",
    "\n",
    "# qutrit operators\n",
    "qb = FockBasis(3-1)\n",
    "\n",
    "Iq = identityoperator(qb)\n",
    "q = destroy(qb)\n",
    "qt = create(qb)\n",
    "sz_ge = Operator(qb,qb, [-1 0 0; 0 1 0; 0 0 1])\n",
    "sz_gf = Operator(qb,qb, [-1 0 0; 0 0 0; 0 0 1])\n",
    "sy_ge = Operator(qb,qb, [0 -1im 0; 1im 0 0; 0 0 1])\n",
    "sy_ef = Operator(qb,qb, [1 0 0; 0 0 -1im; 0 1im 0])\n",
    "sx_ge = Operator(qb,qb, [0 1 0; 1 0 0; 0 0 1])\n",
    "sx_ef = Operator(qb,qb, [1 0 0; 0 0 1; 0 1 0])\n",
    "\n",
    "\n",
    "\n",
    "\n",
    "g = fockstate(qb,0)\n",
    "e = fockstate(qb,1)\n",
    "f = fockstate(qb,2)\n",
    "ge = 1/√2*(g+e)\n",
    "vac = fockstate(fb,0) \n",
    "proj_g = projector(g) ⊗ Ic ⊗ Ic ⊗ Ic\n",
    "proj_e = projector(e) ⊗ Ic ⊗ Ic ⊗ Ic\n",
    "proj_f = projector(f) ⊗ Ic ⊗ Ic ⊗ Ic\n",
    "\n",
    "gvvv = g ⊗ vac ⊗ vac ⊗ vac\n",
    "evvv = e ⊗ vac ⊗ vac ⊗ vac\n",
    "gevvv = ((g+e)/√2) ⊗ vac ⊗ vac ⊗ vac\n",
    "gfvvv = ((g+f)/√2) ⊗ vac ⊗ vac ⊗ vac\n"
   ]
  },
  {
   "cell_type": "code",
   "execution_count": 3,
   "metadata": {},
   "outputs": [
    {
     "data": {
      "text/plain": [
       "decode_pauli_string (generic function with 1 method)"
      ]
     },
     "metadata": {},
     "output_type": "display_data"
    }
   ],
   "source": [
    "function decode_pauli_string(oper_string, α)\n",
    "    scale_factor_list = Float64[]\n",
    "    displacement_list = ComplexF64[]\n",
    "    is_imag_list = Bool[]\n",
    "\n",
    "    for character in oper_string\n",
    "        if character == 'X'\n",
    "            push!(scale_factor_list,1)\n",
    "            push!(displacement_list,2*α)\n",
    "            push!(is_imag_list,false)\n",
    "        elseif character == 'Y'\n",
    "            push!(scale_factor_list,1)\n",
    "            push!(displacement_list,-2*α)\n",
    "            push!(is_imag_list,true)\n",
    "        elseif character == 'Z'\n",
    "            push!(scale_factor_list,1/2*(1/exp((1im*π/(4*α   ))^2/2)))\n",
    "            push!(displacement_list,1im*π/(4*α))\n",
    "            push!(is_imag_list,true)\n",
    "        elseif character == 'I'\n",
    "            push!(scale_factor_list,1/2)\n",
    "            push!(displacement_list,0)\n",
    "            push!(is_imag_list,false)\n",
    "        else\n",
    "            println(\"Invalid character\")\n",
    "        end\n",
    "    end\n",
    "    return scale_factor_list, displacement_list, is_imag_list\n",
    "end"
   ]
  },
  {
   "cell_type": "code",
   "execution_count": 9,
   "metadata": {},
   "outputs": [
    {
     "data": {
      "text/plain": [
       "ideal_W_3ModeOper_expect (generic function with 1 method)"
      ]
     },
     "metadata": {},
     "output_type": "display_data"
    }
   ],
   "source": [
    "function measure_3Mode_char_point(ψ0, is_imag_list ,displacement_list)\n",
    "    if sum(is_imag_list)%2 == 1\n",
    "        return expect(displace(fb,displacement_list[1]) ⊗ displace(fb,displacement_list[2]) ⊗ displace(fb,displacement_list[3]) ,ψ0).im\n",
    "    else\n",
    "        return expect(displace(fb,displacement_list[1]) ⊗ displace(fb,displacement_list[2]) ⊗ displace(fb,displacement_list[3]) ,ψ0).re\n",
    "    end\n",
    "\n",
    "    \n",
    "end\n",
    "\n",
    "\n",
    "function measure_3Mode_paulioper(ψ0, pauli_string, α)\n",
    "    #println(\"entered measure_3Mode_paulioper\")\n",
    "    scale_factor_list, displacement_list, is_imag_list = decode_pauli_string(pauli_string, α)\n",
    "    \n",
    "    if sum(is_imag_list)%2 == 0\n",
    "        #println(\"entered sum(is_imag_list)%2 == 0\")\n",
    "        displacement_list_2 = copy(displacement_list) \n",
    "        displacement_list_3 = copy(displacement_list)\n",
    "        displacement_list_4 = copy(displacement_list)\n",
    "\n",
    "        displacement_list_2[1] *= -1\n",
    "        displacement_list_3[2] *= -1\n",
    "        displacement_list_4[3] *= -1\n",
    "\n",
    "        cf_point_1 = measure_3Mode_char_point(ψ0, is_imag_list, \n",
    "        displacement_list)\n",
    "\n",
    "        cf_point_2 = measure_3Mode_char_point(ψ0, is_imag_list, displacement_list_2)\n",
    "        \n",
    "        cf_point_3 = measure_3Mode_char_point(ψ0, is_imag_list, \n",
    "        displacement_list_3)\n",
    "\n",
    "        cf_point_4 = measure_3Mode_char_point(ψ0, is_imag_list, displacement_list_4)\n",
    "\n",
    "        # taking care of the 4 cases 000, 110, 101, 011\n",
    "        println(\"char func points:\")\n",
    "        println(cf_point_1)\n",
    "        println(cf_point_2)\n",
    "        println(cf_point_3)\n",
    "        println(cf_point_4)\n",
    "        \n",
    "\n",
    "        return 2*prod(scale_factor_list)*1im^(sum(is_imag_list))*\n",
    "        (cf_point_1 + (-1)^is_imag_list[1]*cf_point_2 + (-1)^is_imag_list[2]*cf_point_3 + (-1)^is_imag_list[3]*cf_point_4)\n",
    "\n",
    "    else\n",
    "            #println(\"entered sum(is_imag_list%2) == 1\")\n",
    "            displacement_list_2 = copy(displacement_list) \n",
    "            displacement_list_3 = copy(displacement_list)\n",
    "            displacement_list_4 = copy(displacement_list)\n",
    "    \n",
    "            displacement_list_2[1] *= -1\n",
    "            displacement_list_3[2] *= -1\n",
    "            displacement_list_4[3] *= -1\n",
    "    \n",
    "            cf_point_1 = measure_3Mode_char_point(ψ0, is_imag_list, \n",
    "            displacement_list)\n",
    "    \n",
    "            cf_point_2 = measure_3Mode_char_point(ψ0, is_imag_list, displacement_list_2)\n",
    "            \n",
    "            cf_point_3 = measure_3Mode_char_point(ψ0, is_imag_list, \n",
    "            displacement_list_3)\n",
    "    \n",
    "            cf_point_4 = measure_3Mode_char_point(ψ0, is_imag_list, displacement_list_4)\n",
    "            println(\"char func points:\")\n",
    "            println(cf_point_1)\n",
    "            println(cf_point_2)\n",
    "            println(cf_point_3)\n",
    "            println(cf_point_4)\n",
    "        \n",
    "           # case 111\n",
    "            if sum(is_imag_list) == 3 \n",
    "                return 2*prod(scale_factor_list)*(cf_point_1 + cf_point_2 + cf_point_3 +cf_point_4)\n",
    "            else\n",
    "                # case 001, 010, 100\n",
    "                return 2*prod(scale_factor_list)*(-1)*\n",
    "                (cf_point_1 + (-1)^is_imag_list[1]*cf_point_2 + (-1)^is_imag_list[2]*cf_point_3 + (-1)^is_imag_list[3]*cf_point_4)\n",
    "            end\n",
    "    \n",
    "        end\n",
    "\n",
    "end\n",
    "\n",
    "\n",
    "function ideal_W_3ModeOper_expect(oper_string)\n",
    "    \n",
    "    tlb = SpinBasis(1//2)\n",
    "    e_tl = spinup(tlb)\n",
    "    g_tl = spindown(tlb)\n",
    "\n",
    "    sx = sigmax(tlb)\n",
    "    sy = sigmay(tlb)\n",
    "    sz = sigmaz(tlb)\n",
    "    Iq_tl = identityoperator(tlb)\n",
    "    W_state = 1/√3*(e_tl ⊗ g_tl ⊗ g_tl + g_tl ⊗ e_tl ⊗ g_tl + g_tl ⊗ g_tl ⊗ e_tl)\n",
    "    oper_dict = Dict('X' => sx, 'Y' => sy, 'Z' => sz, 'I' => Iq_tl)\n",
    "    three_mode_oper = oper_dict[oper_string[1]] ⊗ oper_dict[oper_string[2]] ⊗ oper_dict[oper_string[3]]\n",
    "\n",
    "    return real(expect(three_mode_oper, W_state))\n",
    "end"
   ]
  },
  {
   "cell_type": "code",
   "execution_count": 5,
   "metadata": {},
   "outputs": [
    {
     "data": {
      "text/plain": [
       "test_charfunc_pauli_measurements (generic function with 1 method)"
      ]
     },
     "metadata": {},
     "output_type": "display_data"
    }
   ],
   "source": [
    "function test_charfunc_pauli_measurements(pauli_string, α)\n",
    "    println(pauli_string)\n",
    "    W = 1/√3*(coherentstate(fb, -α) ⊗ coherentstate(fb, α) ⊗ coherentstate(fb, α) + coherentstate(fb, α) ⊗ coherentstate(fb, -α) ⊗ coherentstate(fb, α) + coherentstate(fb, α) ⊗ coherentstate(fb, α) ⊗ coherentstate(fb, -α))\n",
    "\n",
    "    exp_result = measure_3Mode_paulioper(W, pauli_string, α)\n",
    "\n",
    "    theoretical_result = ideal_W_3ModeOper_expect(pauli_string)\n",
    "    print(\"experimental result: \")\n",
    "    println(round(abs(exp_result), digits=3))\n",
    "    print(\"theoretical result: \")\n",
    "    println(round(abs(theoretical_result), digits=3))\n",
    "    return exp_result, theoretical_result\n",
    "end\n"
   ]
  },
  {
   "cell_type": "code",
   "execution_count": 6,
   "metadata": {},
   "outputs": [
    {
     "data": {
      "text/plain": [
       "0.9091974936303646 + 0.0im"
      ]
     },
     "metadata": {},
     "output_type": "display_data"
    }
   ],
   "source": [
    "exp((1im*π/(4*1.8))^2/2)"
   ]
  },
  {
   "cell_type": "code",
   "execution_count": 11,
   "metadata": {},
   "outputs": [
    {
     "name": "stdout",
     "output_type": "stream",
     "text": [
      "IXX\n"
     ]
    },
    {
     "name": "stdout",
     "output_type": "stream",
     "text": [
      "char func points:\n",
      "0.00426778398841415\n",
      "0.00426778398841415\n",
      "0.3365535851019575\n",
      "0.3365535851019577"
     ]
    },
    {
     "name": "stdout",
     "output_type": "stream",
     "text": [
      "\n",
      "experimental result: 0.682\n",
      "theoretical result: 0.667\n"
     ]
    },
    {
     "data": {
      "text/plain": [
       "(0.6816427381807435 + 0.0im, 0.6666666666666669)"
      ]
     },
     "metadata": {},
     "output_type": "display_data"
    }
   ],
   "source": [
    "α = 1.25\n",
    "\n",
    "test_charfunc_pauli_measurements(\"IXX\", α)"
   ]
  },
  {
   "cell_type": "code",
   "execution_count": 30,
   "metadata": {},
   "outputs": [
    {
     "name": "stdout",
     "output_type": "stream",
     "text": [
      "III\n"
     ]
    },
    {
     "name": "stdout",
     "output_type": "stream",
     "text": [
      "experimental result: 1.0\n",
      "theoretical result: 1.0\n",
      "IIX\n"
     ]
    },
    {
     "name": "stdout",
     "output_type": "stream",
     "text": [
      "experimental result: 0.005\n",
      "theoretical result: 0.0\n",
      "IIY\n"
     ]
    },
    {
     "name": "stdout",
     "output_type": "stream",
     "text": [
      "experimental result: 0.0\n",
      "theoretical result: 0.0\n",
      "IIZ"
     ]
    },
    {
     "name": "stdout",
     "output_type": "stream",
     "text": [
      "\n",
      "experimental result: 0.333\n",
      "theoretical result: 0.333\n",
      "IXI\n",
      "experimental result: "
     ]
    },
    {
     "name": "stdout",
     "output_type": "stream",
     "text": [
      "0.005\n",
      "theoretical result: 0.0\n",
      "IXX\n"
     ]
    },
    {
     "name": "stdout",
     "output_type": "stream",
     "text": [
      "experimental result: 0.666\n",
      "theoretical result: 0.667\n",
      "IXY"
     ]
    },
    {
     "name": "stdout",
     "output_type": "stream",
     "text": [
      "\n",
      "experimental result: 0.0\n",
      "theoretical result: 0.0\n",
      "IXZ"
     ]
    },
    {
     "name": "stdout",
     "output_type": "stream",
     "text": [
      "\n",
      "experimental result: 0.002\n",
      "theoretical result: 0.0\n",
      "IYI\n"
     ]
    },
    {
     "name": "stdout",
     "output_type": "stream",
     "text": [
      "experimental result: 0.0\n",
      "theoretical result: 0.0\n",
      "IYX"
     ]
    },
    {
     "name": "stdout",
     "output_type": "stream",
     "text": [
      "\n",
      "experimental result: 0.0\n",
      "theoretical result: 0.0\n",
      "IYY"
     ]
    },
    {
     "name": "stdout",
     "output_type": "stream",
     "text": [
      "\n",
      "experimental result: 0.667\n",
      "theoretical result: 0.667\n",
      "IYZ\n",
      "experimental result: "
     ]
    },
    {
     "name": "stdout",
     "output_type": "stream",
     "text": [
      "0.0\n",
      "theoretical result: 0.0\n",
      "IZI"
     ]
    },
    {
     "name": "stdout",
     "output_type": "stream",
     "text": [
      "\n",
      "experimental result: 0.333\n",
      "theoretical result: 0.333\n",
      "IZX\n"
     ]
    },
    {
     "name": "stdout",
     "output_type": "stream",
     "text": [
      "experimental result: 0.002\n",
      "theoretical result: 0.0\n",
      "IZY"
     ]
    },
    {
     "name": "stdout",
     "output_type": "stream",
     "text": [
      "\n",
      "experimental result: 0.0\n",
      "theoretical result: 0.0\n",
      "IZZ"
     ]
    },
    {
     "name": "stdout",
     "output_type": "stream",
     "text": [
      "\n",
      "experimental result: 0.333\n",
      "theoretical result: 0.333\n",
      "XII\n"
     ]
    },
    {
     "name": "stdout",
     "output_type": "stream",
     "text": [
      "experimental result: 0.005\n",
      "theoretical result: 0.0\n",
      "XIX\n"
     ]
    },
    {
     "name": "stdout",
     "output_type": "stream",
     "text": [
      "experimental result: 0.666\n",
      "theoretical result: 0.667\n",
      "XIY\n"
     ]
    },
    {
     "name": "stdout",
     "output_type": "stream",
     "text": [
      "experimental result: 0.0\n",
      "theoretical result: 0.0\n",
      "XIZ\n"
     ]
    },
    {
     "name": "stdout",
     "output_type": "stream",
     "text": [
      "experimental result: 0.002\n",
      "theoretical result: 0.0\n",
      "XXI\n"
     ]
    },
    {
     "name": "stdout",
     "output_type": "stream",
     "text": [
      "experimental result: 0.666\n",
      "theoretical result: 0.667\n",
      "XXX\n"
     ]
    },
    {
     "name": "stdout",
     "output_type": "stream",
     "text": [
      "experimental result: 0.006\n",
      "theoretical result: 0.0\n",
      "XXY\n"
     ]
    },
    {
     "name": "stdout",
     "output_type": "stream",
     "text": [
      "experimental result: 0.0\n",
      "theoretical result: 0.0\n",
      "XXZ\n"
     ]
    },
    {
     "name": "stdout",
     "output_type": "stream",
     "text": [
      "experimental result: 0.666\n",
      "theoretical result: 0.667\n",
      "XYI\n"
     ]
    },
    {
     "name": "stdout",
     "output_type": "stream",
     "text": [
      "experimental result: 0.0\n",
      "theoretical result: 0.0\n",
      "XYX\n"
     ]
    },
    {
     "name": "stdout",
     "output_type": "stream",
     "text": [
      "experimental result: 0.0\n",
      "theoretical result: 0.0\n",
      "XYY\n"
     ]
    },
    {
     "name": "stdout",
     "output_type": "stream",
     "text": [
      "experimental result: 0.002\n",
      "theoretical result: 0.0\n",
      "XYZ"
     ]
    },
    {
     "name": "stdout",
     "output_type": "stream",
     "text": [
      "\n",
      "experimental result: 0.0\n",
      "theoretical result: 0.0\n",
      "XZI"
     ]
    },
    {
     "name": "stdout",
     "output_type": "stream",
     "text": [
      "\n",
      "experimental result: 0.002\n",
      "theoretical result: 0.0\n",
      "XZX\n"
     ]
    },
    {
     "name": "stdout",
     "output_type": "stream",
     "text": [
      "experimental result: 0.666\n",
      "theoretical result: 0.667\n",
      "XZY\n"
     ]
    },
    {
     "name": "stdout",
     "output_type": "stream",
     "text": [
      "experimental result: 0.0\n",
      "theoretical result: 0.0\n",
      "XZZ\n",
      "experimental result: "
     ]
    },
    {
     "name": "stdout",
     "output_type": "stream",
     "text": [
      "0.001\n",
      "theoretical result: 0.0\n",
      "YII\n"
     ]
    },
    {
     "name": "stdout",
     "output_type": "stream",
     "text": [
      "experimental result: 0.0\n",
      "theoretical result: 0.0\n",
      "YIX\n"
     ]
    },
    {
     "name": "stdout",
     "output_type": "stream",
     "text": [
      "experimental result: 0.0\n",
      "theoretical result: 0.0\n",
      "YIY\n"
     ]
    },
    {
     "name": "stdout",
     "output_type": "stream",
     "text": [
      "experimental result: 0.667\n",
      "theoretical result: 0.667\n",
      "YIZ"
     ]
    },
    {
     "name": "stdout",
     "output_type": "stream",
     "text": [
      "\n",
      "experimental result: 0.0\n",
      "theoretical result: 0.0\n",
      "YXI\n"
     ]
    },
    {
     "name": "stdout",
     "output_type": "stream",
     "text": [
      "experimental result: 0.0\n",
      "theoretical result: 0.0\n",
      "YXX"
     ]
    },
    {
     "name": "stdout",
     "output_type": "stream",
     "text": [
      "\n",
      "experimental result: 0.0\n",
      "theoretical result: 0.0\n",
      "YXY\n"
     ]
    },
    {
     "name": "stdout",
     "output_type": "stream",
     "text": [
      "experimental result: 0.002\n",
      "theoretical result: 0.0\n",
      "YXZ\n"
     ]
    },
    {
     "name": "stdout",
     "output_type": "stream",
     "text": [
      "experimental result: 0.0\n",
      "theoretical result: 0.0\n",
      "YYI"
     ]
    },
    {
     "name": "stdout",
     "output_type": "stream",
     "text": [
      "\n",
      "experimental result: 0.667\n",
      "theoretical result: 0.667\n",
      "YYX"
     ]
    },
    {
     "name": "stdout",
     "output_type": "stream",
     "text": [
      "\n",
      "experimental result: 0.002\n",
      "theoretical result: 0.0\n",
      "YYY\n"
     ]
    },
    {
     "name": "stdout",
     "output_type": "stream",
     "text": [
      "experimental result: 0.0\n",
      "theoretical result: 0.0\n",
      "YYZ"
     ]
    },
    {
     "name": "stdout",
     "output_type": "stream",
     "text": [
      "\n",
      "experimental result: 0.667\n",
      "theoretical result: 0.667\n",
      "YZI"
     ]
    },
    {
     "name": "stdout",
     "output_type": "stream",
     "text": [
      "\n",
      "experimental result: 0.0\n",
      "theoretical result: 0.0\n",
      "YZX"
     ]
    },
    {
     "name": "stdout",
     "output_type": "stream",
     "text": [
      "\n",
      "experimental result: 0.0\n",
      "theoretical result: 0.0\n",
      "YZY"
     ]
    },
    {
     "name": "stdout",
     "output_type": "stream",
     "text": [
      "\n",
      "experimental result: 0.667\n",
      "theoretical result: 0.667\n",
      "YZZ\n",
      "experimental result: "
     ]
    },
    {
     "name": "stdout",
     "output_type": "stream",
     "text": [
      "0.001\n",
      "theoretical result: 0.0\n",
      "ZII\n"
     ]
    },
    {
     "name": "stdout",
     "output_type": "stream",
     "text": [
      "experimental result: 0.333\n",
      "theoretical result: 0.333\n",
      "ZIX\n"
     ]
    },
    {
     "name": "stdout",
     "output_type": "stream",
     "text": [
      "experimental result: 0.002\n",
      "theoretical result: 0.0\n",
      "ZIY\n"
     ]
    },
    {
     "name": "stdout",
     "output_type": "stream",
     "text": [
      "experimental result: 0.0\n",
      "theoretical result: 0.0\n",
      "ZIZ"
     ]
    },
    {
     "name": "stdout",
     "output_type": "stream",
     "text": [
      "\n",
      "experimental result: 0.333\n",
      "theoretical result: 0.333\n",
      "ZXI\n"
     ]
    },
    {
     "name": "stdout",
     "output_type": "stream",
     "text": [
      "experimental result: 0.002\n",
      "theoretical result: 0.0\n",
      "ZXX\n"
     ]
    },
    {
     "name": "stdout",
     "output_type": "stream",
     "text": [
      "experimental result: 0.666\n",
      "theoretical result: 0.667\n",
      "ZXY\n"
     ]
    },
    {
     "name": "stdout",
     "output_type": "stream",
     "text": [
      "experimental result: 0.0\n",
      "theoretical result: 0.0\n",
      "ZXZ"
     ]
    },
    {
     "name": "stdout",
     "output_type": "stream",
     "text": [
      "\n",
      "experimental result: 0.001\n",
      "theoretical result: 0.0\n",
      "ZYI\n"
     ]
    },
    {
     "ename": "OutOfMemoryError",
     "evalue": "OutOfMemoryError()",
     "output_type": "error",
     "traceback": [
      "OutOfMemoryError()\n",
      "\n",
      "Stacktrace:\n",
      " [1] Array\n",
      "   @ .\\boot.jl:479 [inlined]\n",
      " [2] Array\n",
      "   @ .\\boot.jl:487 [inlined]\n",
      " [3] kron(A::Matrix{ComplexF64}, B::Matrix{ComplexF64})\n",
      "   @ LinearAlgebra C:\\Users\\Jon\\.julia\\juliaup\\julia-1.10.0+0.x64.w64.mingw32\\share\\julia\\stdlib\\v1.10\\LinearAlgebra\\src\\dense.jl:466\n",
      " [4] tensor(a::Operator{CompositeBasis{Vector{Int64}, Tuple{FockBasis{Int64}, FockBasis{Int64}}}, CompositeBasis{Vector{Int64}, Tuple{FockBasis{Int64}, FockBasis{Int64}}}, Matrix{ComplexF64}}, b::Operator{FockBasis{Int64}, FockBasis{Int64}, Matrix{ComplexF64}})\n",
      "   @ QuantumOpticsBase C:\\Users\\Jon\\.julia\\packages\\QuantumOpticsBase\\YXZS9\\src\\operators_dense.jl:131\n",
      " [5] measure_3Mode_char_point(ψ0::Ket{CompositeBasis{Vector{Int64}, Tuple{FockBasis{Int64}, FockBasis{Int64}, FockBasis{Int64}}}, Vector{ComplexF64}}, is_imag_list::Vector{Bool}, displacement_list::Vector{ComplexF64})\n",
      "   @ Main c:\\Users\\Jon\\Github\\multimode\\multimode\\WStateCreation\\W_measure_3Mode_ideal_operator.ipynb:5\n",
      " [6] measure_3Mode_paulioper(ψ0::Ket{CompositeBasis{Vector{Int64}, Tuple{FockBasis{Int64}, FockBasis{Int64}, FockBasis{Int64}}}, Vector{ComplexF64}}, pauli_string::String, α::Float64)\n",
      "   @ Main c:\\Users\\Jon\\Github\\multimode\\multimode\\WStateCreation\\W_measure_3Mode_ideal_operator.ipynb:29\n",
      " [7] test_charfunc_pauli_measurements(pauli_string::String, α::Float64)\n",
      "   @ Main c:\\Users\\Jon\\Github\\multimode\\multimode\\WStateCreation\\W_measure_3Mode_ideal_operator.ipynb:5\n",
      " [8] top-level scope\n",
      "   @ c:\\Users\\Jon\\Github\\multimode\\multimode\\WStateCreation\\W_measure_3Mode_ideal_operator.ipynb:11"
     ]
    }
   ],
   "source": [
    "\n",
    "α = 1.8\n",
    "\n",
    "# Loop over all possible Pauli string combinations\n",
    "pauli_strings = [\"I\", \"X\", \"Y\", \"Z\"]\n",
    "results = []\n",
    "for pauli1 in pauli_strings\n",
    "    for pauli2 in pauli_strings\n",
    "        for pauli3 in pauli_strings\n",
    "            pauli_string = string(pauli1, pauli2, pauli3)\n",
    "            test_charfunc_pauli_measurements(pauli_string, α)\n",
    "        end\n",
    "    end\n",
    "end\n"
   ]
  }
 ],
 "metadata": {
  "kernelspec": {
   "display_name": "Julia 1.10.0",
   "language": "julia",
   "name": "julia-1.10"
  },
  "language_info": {
   "file_extension": ".jl",
   "mimetype": "application/julia",
   "name": "julia",
   "version": "1.10.0"
  }
 },
 "nbformat": 4,
 "nbformat_minor": 2
}
