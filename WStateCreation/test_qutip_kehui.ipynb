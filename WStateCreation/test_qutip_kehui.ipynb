{
 "cells": [
  {
   "cell_type": "code",
   "execution_count": 10,
   "metadata": {},
   "outputs": [],
   "source": [
    "from qutip import basis, coherent, destroy, sigmax, sigmay, sigmaz, tensor, expect\n",
    "import numpy as np"
   ]
  },
  {
   "cell_type": "code",
   "execution_count": 27,
   "metadata": {},
   "outputs": [],
   "source": [
    "dim_c = 30 # dimension of cavity Fock space\n",
    "alp = 3\n",
    "coh_p = coherent(dim_c, alp)  # |α>\n",
    "# coh_p = basis(dim_c,0)  # Test two-level system, Just let coherent state as fock state\n",
    "\n",
    "coh_m = coherent(dim_c, -alp)  # |-α>\n",
    "# coh_m = basis(dim_c,1)"
   ]
  },
  {
   "cell_type": "code",
   "execution_count": 28,
   "metadata": {},
   "outputs": [
    {
     "data": {
      "text/latex": [
       "Quantum object: dims = [[1], [1]], shape = (1, 1), type = bra $ \\\\ \\left(\\begin{matrix}-2.029\\times10^{-07}\\\\\\end{matrix}\\right)$"
      ],
      "text/plain": [
       "Quantum object: dims = [[1], [1]], shape = (1, 1), type = bra\n",
       "Qobj data =\n",
       "[[-2.02917492e-07]]"
      ]
     },
     "execution_count": 28,
     "metadata": {},
     "output_type": "execute_result"
    }
   ],
   "source": [
    "coh_p.dag() * coh_m"
   ]
  },
  {
   "cell_type": "code",
   "execution_count": 29,
   "metadata": {},
   "outputs": [],
   "source": [
    "I = (coh_p * coh_p.dag() + coh_m * coh_m.dag())\n",
    "X = (coh_p * coh_m.dag() + coh_m * coh_p.dag())\n",
    "Y = (1j * (-coh_p * coh_m.dag() + coh_m * coh_p.dag()))\n",
    "Z = (coh_p * coh_p.dag() - coh_m * coh_m.dag())"
   ]
  },
  {
   "cell_type": "code",
   "execution_count": 31,
   "metadata": {},
   "outputs": [],
   "source": [
    "three_mode_pauli_ops = [\"III\", \"IIX\", \"IIY\", \"IIZ\", \"IXI\", \"IXX\", \"IXY\", \"IXZ\", \"IYI\", \"IYX\", \"IYY\", \"IYZ\", \"IZI\", \"IZX\", \"IZY\", \"IZZ\", \"XII\", \"XIX\", \"XIY\", \"XIZ\", \"XXI\", \"XXX\", \"XXY\", \"XXZ\", \"XYI\", \"XYX\", \"XYY\", \"XYZ\", \"XZI\", \"XZX\", \"XZY\", \"XZZ\", \"YII\", \"YIX\", \"YIY\", \"YIZ\", \"YXI\", \"YXX\", \"YXY\", \"YXZ\", \"YYI\", \"YYX\", \"YYY\", \"YYZ\", \"YZI\", \"YZX\", \"YZY\", \"YZZ\", \"ZII\", \"ZIX\", \"ZIY\", \"ZIZ\", \"ZXI\", \"ZXX\", \"ZXY\", \"ZXZ\", \"ZYI\", \"ZYX\", \"ZYY\", \"ZYZ\", \"ZZI\", \"ZZX\", \"ZZY\", \"ZZZ\"]"
   ]
  },
  {
   "cell_type": "code",
   "execution_count": 32,
   "metadata": {},
   "outputs": [],
   "source": [
    "W = 1/np.sqrt(3)*(tensor(coh_p, coh_m, coh_m) + tensor(coh_m, coh_p, coh_m) + tensor(coh_m, coh_m, coh_p))"
   ]
  },
  {
   "cell_type": "code",
   "execution_count": 33,
   "metadata": {},
   "outputs": [],
   "source": [
    "expect_ls = []\n",
    "for three_oper in three_mode_pauli_ops:\n",
    "    oper_ls = []\n",
    "    for oper_str in three_oper:\n",
    "        if oper_str == 'I':\n",
    "            oper_ls.append(I)\n",
    "        elif oper_str == 'X':\n",
    "            oper_ls.append(X)\n",
    "        elif oper_str == 'Y':\n",
    "            oper_ls.append(Y)\n",
    "        elif oper_str == 'Z':\n",
    "            oper_ls.append(Z)\n",
    "        else:\n",
    "            raise Exception('Operator string error!')\n",
    "    \n",
    "    oper_3Mode = tensor(*oper_ls)\n",
    "    expect_ls.append(expect(oper_3Mode, W))"
   ]
  },
  {
   "cell_type": "code",
   "execution_count": 34,
   "metadata": {},
   "outputs": [
    {
     "name": "stdout",
     "output_type": "stream",
     "text": [
      "III 1.0000000000004192\n",
      "IIX -9.469482943594276e-07\n",
      "IIY 0.0\n",
      "IIZ -0.33333333333345966\n",
      "IXI -9.469482944151047e-07\n",
      "IXX 0.6666666666671249\n",
      "IXY 0.0\n",
      "IXZ 4.0583498313390797e-07\n",
      "IYI 0.0\n",
      "IYX 0.0\n",
      "IYY 0.6666666666666227\n",
      "IYZ 0.0\n",
      "IZI -0.33333333333345927\n",
      "IZX 4.058349832993203e-07\n",
      "IZY 0.0\n",
      "IZZ -0.333333333333318\n",
      "XII -9.469482941807147e-07\n",
      "XIX 0.6666666666671246\n",
      "XIY 0.0\n",
      "XIZ 4.0583498311089705e-07\n",
      "XXI 0.6666666666671237\n",
      "XXX -8.116699667707759e-07\n",
      "XXY 0.0\n",
      "XXZ -0.6666666666667396\n",
      "XYI 0.0\n",
      "XYX 0.0\n",
      "XYY -2.7055665581787193e-07\n",
      "XYZ 0.0\n",
      "XZI 4.0583498320595484e-07\n",
      "XZX -0.6666666666667413\n",
      "XZY 0.0\n",
      "XZZ 1.35278327748588e-07\n",
      "YII 0.0\n",
      "YIX 0.0\n",
      "YIY 0.6666666666666242\n",
      "YIZ 0.0\n",
      "YXI 0.0\n",
      "YXX 0.0\n",
      "YXY -2.7055665544906177e-07\n",
      "YXZ 0.0\n",
      "YYI 0.666666666666625\n",
      "YYX -2.7055665546223223e-07\n",
      "YYY 0.0\n",
      "YYZ -0.6666666666665788\n",
      "YZI 0.0\n",
      "YZX 0.0\n",
      "YZY -0.6666666666665766\n",
      "YZZ 0.0\n",
      "ZII -0.3333333333334567\n",
      "ZIX 4.0583498313150986e-07\n",
      "ZIY 0.0\n",
      "ZIZ -0.3333333333333205\n",
      "ZXI 4.0583498312168396e-07\n",
      "ZXX -0.6666666666667387\n",
      "ZXY 0.0\n",
      "ZXZ 1.3527832780974039e-07\n",
      "ZYI 0.0\n",
      "ZYX 0.0\n",
      "ZYY -0.666666666666583\n",
      "ZYZ 0.0\n",
      "ZZI -0.33333333333332044\n",
      "ZZX 1.3527832781393963e-07\n",
      "ZZY 0.0\n",
      "ZZZ 0.9999999999998546\n"
     ]
    }
   ],
   "source": [
    "for i,expect_val in enumerate(expect_ls):\n",
    "    print(three_mode_pauli_ops[i], expect_val)"
   ]
  },
  {
   "cell_type": "code",
   "execution_count": null,
   "metadata": {},
   "outputs": [],
   "source": []
  }
 ],
 "metadata": {
  "kernelspec": {
   "display_name": "QEDA",
   "language": "python",
   "name": "python3"
  },
  "language_info": {
   "codemirror_mode": {
    "name": "ipython",
    "version": 3
   },
   "file_extension": ".py",
   "mimetype": "text/x-python",
   "name": "python",
   "nbconvert_exporter": "python",
   "pygments_lexer": "ipython3",
   "version": "3.8.18"
  }
 },
 "nbformat": 4,
 "nbformat_minor": 2
}
